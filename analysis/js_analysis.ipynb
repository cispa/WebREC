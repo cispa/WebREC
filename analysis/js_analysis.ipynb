{
 "cells": [
  {
   "cell_type": "code",
   "execution_count": 1,
   "metadata": {},
   "outputs": [],
   "source": [
    "import pandas as pd\n",
    "import ipywidgets as widgets"
   ]
  },
  {
   "cell_type": "code",
   "execution_count": 2,
   "metadata": {},
   "outputs": [
    {
     "name": "stdout",
     "output_type": "stream",
     "text": [
      "Number of origins: 1\n",
      "Number of origins with appearance: 1\n",
      "Number of appearances: 1\n",
      "Number of appearances (only GT): 1\n",
      "Number of executions (only GT): 1\n"
     ]
    }
   ],
   "source": [
    "cvs_path = \"/home/ubuntu/hwpg-ae/analysis_ae/js_results_1736761230.csv\"\n",
    "df = pd.read_csv(cvs_path)\n",
    "\n",
    "df = df[df[\"Call\"] != \"MessagePort.onmessage.set\"]\n",
    "df = df[df[\"Call\"] != \"MessagePort.onmessageerror.set\"]\n",
    "\n",
    "# General Information\n",
    "\n",
    "total_origins = df['origin'].drop_duplicates().count()\n",
    "\n",
    "# Filter out Empty as this was only there to count origins\n",
    "df = df[df[\"Call\"] != \"Empty\"]\n",
    "\n",
    "# All the CSS stuff was not hooked\n",
    "# df = df[df[\"Call\"] != \"CSS.escape\"]\n",
    "df = df[df[\"Call\"] != \"CSS.supports\"]\n",
    "df = df[df[\"Call\"] != \"CSS.registerProperty\"]\n",
    "df = df[df[\"Call\"] != \"CSS.paintWorklet\"]\n",
    "df = df[df[\"Call\"] != \"CSS.px\"]\n",
    "df = df[df[\"Call\"] != \"CSS.paintWorklet.get\"]\n",
    "df = df[df[\"Call\"] != \"CSS.highlights.get\"]\n",
    "\n",
    "# Remove style set, because it is not specified but still used\n",
    "df = df[df[\"Call\"] != \"HTMLElement.style.set\"]\n",
    "\n",
    "df = df[df[\"Call\"] != \"StyleSheetList.\"]\n",
    "\n",
    "# Filter out calls for the port 1 & 2 getter as we cannot hook this attribution\n",
    "df = df[df[\"Call\"] != \"MessageChannel.port1.get\"]\n",
    "df = df[df[\"Call\"] != \"MessageChannel.port2.get\"]\n",
    "\n",
    "total_appearances = df[df['Appearances JS'] != 0]['origin'].count() # df['origin'].count()\n",
    "total_executions = df[df['Appearances JS'] != 0]['Appearances JS'].sum() # df['origin'].count()\n",
    "\n",
    "\n",
    "print(\"Number of origins:\", total_origins)\n",
    "print(\"Number of origins with appearance:\", df['origin'].drop_duplicates().count())\n",
    "print(\"Number of appearances:\", df['origin'].count())\n",
    "print(\"Number of appearances (only GT):\", total_appearances)\n",
    "print(\"Number of executions (only GT):\", total_executions)"
   ]
  },
  {
   "cell_type": "code",
   "execution_count": null,
   "metadata": {},
   "outputs": [
    {
     "name": "stdout",
     "output_type": "stream",
     "text": [
      "Appearances JS vs. Appearances PG\n",
      "Equal number of appearances: 1 / 1 (1.0)\n",
      "Not equal number of appearances (origins): 0 / 1 (0.0)\n",
      "Less JS appearances: 0 / 1 (0.0)\n",
      "Less JS appearances (origins): 0 / 1 (0.0)\n",
      "More JS appearances: 0 / 1 (0.0)\n",
      "More JS appearances (origins): 0 / 1 (0.0)\n",
      "\n",
      "Appearances JS vs. Appearances HAR JS\n",
      "Equal number of appearances: 1 / 1 (1.0)\n",
      "Not equal number of appearances (origins): 0 / 1 (0.0)\n",
      "Less JS appearances: 0 / 1 (0.0)\n",
      "Less JS appearances (origins): 0 / 1 (0.0)\n",
      "More JS appearances: 0 / 1 (0.0)\n",
      "More JS appearances (origins): 0 / 1 (0.0)\n",
      "\n",
      "Appearances JS vs. Appearances WARC JS\n",
      "Equal number of appearances: 1 / 1 (1.0)\n",
      "Not equal number of appearances (origins): 0 / 1 (0.0)\n",
      "Less JS appearances: 0 / 1 (0.0)\n",
      "Less JS appearances (origins): 0 / 1 (0.0)\n",
      "More JS appearances: 0 / 1 (0.0)\n",
      "More JS appearances (origins): 0 / 1 (0.0)\n",
      "\n"
     ]
    }
   ],
   "source": [
    "# Information about appearances general\n",
    "\n",
    "for experiment in ['Appearances PG', 'Appearances HAR JS', 'Appearances WARC JS']:\n",
    "    print('Appearances JS vs.', experiment)\n",
    "    appearances = df[(df['Appearances JS'] == df[experiment]) & (df['Appearances JS'] != 0)]\n",
    "    eq_ap = appearances['origin'].count()\n",
    "    print(f\"Equal number of appearances: {eq_ap} / {total_appearances} ({round(eq_ap / total_appearances, 2)})\")\n",
    "\n",
    "    appearances = df[(df['Appearances JS'] != df[experiment])  & (df['Appearances JS'] != 0)]\n",
    "    neq_ap = appearances['origin'].drop_duplicates().count()\n",
    "    print(f\"Not equal number of appearances (origins): {neq_ap} / {total_origins} ({round(neq_ap / total_origins, 2)})\")\n",
    "\n",
    "    appearances = df[(df['Appearances JS'] < df[experiment])  & (df['Appearances JS'] != 0)]\n",
    "    gt_ap = appearances['origin'].count()\n",
    "    gt_orig = appearances['origin'].drop_duplicates().count()\n",
    "    print(f\"Less JS appearances: {gt_ap} / {total_appearances} ({round(gt_ap / total_appearances, 2)})\")\n",
    "    print(f\"Less JS appearances (origins): {gt_orig} / {total_origins} ({round(gt_orig / total_origins, 2)})\")\n",
    "\n",
    "    appearances = df[(df['Appearances JS'] > df[experiment])  & (df['Appearances JS'] != 0)]\n",
    "    lt_ap = appearances['origin'].count()\n",
    "    lt_orig = appearances['origin'].drop_duplicates().count()\n",
    "    print(f\"More JS appearances: {lt_ap} / {total_appearances} ({round(lt_ap / total_appearances, 2)})\")\n",
    "    print(f\"More JS appearances (origins): {lt_orig} / {total_origins} ({round(lt_orig / total_origins, 2)})\")\n",
    "    print()\n",
    "\n"
   ]
  },
  {
   "cell_type": "code",
   "execution_count": 4,
   "metadata": {},
   "outputs": [
    {
     "name": "stdout",
     "output_type": "stream",
     "text": [
      "CSS_OM 1\n",
      "HTML_MC 0\n",
      "\n",
      "CSS_OM origins JS 0.011793843613633684\n",
      "HTML_MC origins JS 0.0\n",
      "\n",
      "CSS_OM origins PG 0.011793843613633684\n",
      "HTML_MC origins PG 0.0\n",
      "\n",
      "CSS_OM origins HAR JS 0.011793843613633684\n",
      "HTML_MC origins HAR JS 0.0\n",
      "\n",
      "CSS_OM origins WARC JS 0.011793843613633684\n",
      "HTML_MC origins WARC JS 0.0\n"
     ]
    }
   ],
   "source": [
    "# How many origins use how many features of the APIs.\n",
    "def standard_categorizer(call):\n",
    "    if call.startswith(\"MessageChannel\"):\n",
    "        return \"HTML_MC\"\n",
    "    if call.startswith(\"MessagePort\"):\n",
    "        return \"HTML_MC\"\n",
    "    return \"CSS_OM\"\n",
    "    \n",
    "df[\"Standard\"] = df[\"Call\"].apply(standard_categorizer)\n",
    "\n",
    "with pd.option_context(\"display.max_rows\", 70):\n",
    "    # display(df[[\"Call\", \"Standard\"]].sort_values(by=[\"Standard\", \"Call\"]).drop_duplicates())\n",
    "    print(\"CSS_OM\", len(df[df[\"Standard\"] == \"CSS_OM\"][\"Call\"].unique()))\n",
    "    print(\"HTML_MC\", len(df[df[\"Standard\"] == \"HTML_MC\"][\"Call\"].unique()))\n",
    "    print()\n",
    "\n",
    "    # GT origins with JS standard calls\n",
    "    print(\"CSS_OM origins JS\", len(df[(df[\"Appearances JS\"] > 0) & (df[\"Standard\"] == \"CSS_OM\")][\"origin\"].unique()) / 8479 * 100)\n",
    "    print(\"HTML_MC origins JS\", len(df[(df[\"Appearances JS\"] > 0) & (df[\"Standard\"] == \"HTML_MC\")][\"origin\"].unique()) / 8479 * 100)\n",
    "    print()\n",
    "    \n",
    "    # PG origins with JS standard calls\n",
    "    print(\"CSS_OM origins PG\", len(df[(df[\"Appearances PG\"] > 0) & (df[\"Standard\"] == \"CSS_OM\")][\"origin\"].unique()) / 8479 * 100)\n",
    "    print(\"HTML_MC origins PG\", len(df[(df[\"Appearances PG\"] > 0) & (df[\"Standard\"] == \"HTML_MC\")][\"origin\"].unique()) / 8479 * 100)\n",
    "    print()\n",
    "    \n",
    "    # HAR origins with JS standard calls\n",
    "    print(\"CSS_OM origins HAR JS\", len(df[(df[\"Appearances HAR JS\"] > 0) & (df[\"Standard\"] == \"CSS_OM\")][\"origin\"].unique()) / 8479 * 100)\n",
    "    print(\"HTML_MC origins HAR JS\", len(df[(df[\"Appearances HAR JS\"] > 0) & (df[\"Standard\"] == \"HTML_MC\")][\"origin\"].unique()) / 8479 * 100)\n",
    "    print()\n",
    "    \n",
    "    # WARC origins with JS standard calls\n",
    "    not_found_correction = len(df[(df[\"Appearances WARC JS\"] == 5) & (df[\"Appearances JS\"] == 0)  & (df[\"Call\"] == \"HTMLElement.style.get\")])\n",
    "    print(\"CSS_OM origins WARC JS\", (len(df[(df[\"Appearances WARC JS\"] > 0) & (df[\"Standard\"] == \"CSS_OM\")][\"origin\"].unique()) - not_found_correction) / 8479 * 100)\n",
    "    print(\"HTML_MC origins WARC JS\", len(df[(df[\"Appearances WARC JS\"] > 0) & (df[\"Standard\"] == \"HTML_MC\")][\"origin\"].unique()) / 8479 * 100)"
   ]
  },
  {
   "cell_type": "code",
   "execution_count": 5,
   "metadata": {},
   "outputs": [
    {
     "name": "stdout",
     "output_type": "stream",
     "text": [
      "0\n"
     ]
    },
    {
     "data": {
      "text/html": [
       "<div>\n",
       "<style scoped>\n",
       "    .dataframe tbody tr th:only-of-type {\n",
       "        vertical-align: middle;\n",
       "    }\n",
       "\n",
       "    .dataframe tbody tr th {\n",
       "        vertical-align: top;\n",
       "    }\n",
       "\n",
       "    .dataframe thead th {\n",
       "        text-align: right;\n",
       "    }\n",
       "</style>\n",
       "<table border=\"1\" class=\"dataframe\">\n",
       "  <thead>\n",
       "    <tr style=\"text-align: right;\">\n",
       "      <th></th>\n",
       "      <th>Call</th>\n",
       "      <th>Appearances JS</th>\n",
       "      <th>Appearances PG</th>\n",
       "      <th>Appearances HAR JS</th>\n",
       "      <th>Appearances WARC JS</th>\n",
       "      <th>origin</th>\n",
       "      <th>Standard</th>\n",
       "    </tr>\n",
       "  </thead>\n",
       "  <tbody>\n",
       "  </tbody>\n",
       "</table>\n",
       "</div>"
      ],
      "text/plain": [
       "Empty DataFrame\n",
       "Columns: [Call, Appearances JS, Appearances PG, Appearances HAR JS, Appearances WARC JS, origin, Standard]\n",
       "Index: []"
      ]
     },
     "metadata": {},
     "output_type": "display_data"
    },
    {
     "data": {
      "text/html": [
       "<div>\n",
       "<style scoped>\n",
       "    .dataframe tbody tr th:only-of-type {\n",
       "        vertical-align: middle;\n",
       "    }\n",
       "\n",
       "    .dataframe tbody tr th {\n",
       "        vertical-align: top;\n",
       "    }\n",
       "\n",
       "    .dataframe thead th {\n",
       "        text-align: right;\n",
       "    }\n",
       "</style>\n",
       "<table border=\"1\" class=\"dataframe\">\n",
       "  <thead>\n",
       "    <tr style=\"text-align: right;\">\n",
       "      <th></th>\n",
       "      <th>Call</th>\n",
       "      <th>Appearances JS</th>\n",
       "      <th>Appearances PG</th>\n",
       "      <th>Appearances HAR JS</th>\n",
       "      <th>Appearances WARC JS</th>\n",
       "      <th>origin</th>\n",
       "      <th>Standard</th>\n",
       "    </tr>\n",
       "  </thead>\n",
       "  <tbody>\n",
       "  </tbody>\n",
       "</table>\n",
       "</div>"
      ],
      "text/plain": [
       "Empty DataFrame\n",
       "Columns: [Call, Appearances JS, Appearances PG, Appearances HAR JS, Appearances WARC JS, origin, Standard]\n",
       "Index: []"
      ]
     },
     "metadata": {},
     "output_type": "display_data"
    }
   ],
   "source": [
    "# Show me origins for wich WARC has more origins than HAR for CSS_OM\n",
    "\n",
    "with pd.option_context(\"display.max_rows\", 300):\n",
    "    print(len(df[(df[\"Appearances WARC JS\"] == 5) & (df[\"Appearances JS\"] == 0)  & (df[\"Call\"] == \"HTMLElement.style.get\")]))\n",
    "    display(df[(df[\"Standard\"] == \"CSS_OM\") & (df[\"origin\"].str.contains(\"http_movilnet.com.ve\"))])\n",
    "    # display(df[(df[\"Appearances WARC JS\"] > 0) & (df[\"Appearances JS\"] == 0)  & (df[\"Standard\"] == \"CSS_OM\")][\"Appearances WARC JS\"].value_counts())\n",
    "    display(df[(df[\"Appearances WARC JS\"] == 2) & (df[\"Appearances JS\"] == 0)  & (df[\"Standard\"] == \"CSS_OM\")])\n"
   ]
  },
  {
   "cell_type": "code",
   "execution_count": 6,
   "metadata": {},
   "outputs": [
    {
     "name": "stdout",
     "output_type": "stream",
     "text": [
      "GT and PG are greater zero, Appearances HAR JS is not: 0\n",
      "PG is greater zero, GT and Appearances HAR JS is not: 0\n",
      "PG is zero, GT and Appearances HAR JS is not: 0\n",
      "---\n",
      "GT and PG are greater zero, Appearances WARC JS is not: 0\n",
      "PG is greater zero, GT and Appearances WARC JS is not: 0\n",
      "PG is zero, GT and Appearances WARC JS is not: 0\n",
      "---\n"
     ]
    }
   ],
   "source": [
    "# How many origins have GT and PG more than 0 executions and WARC and HAR = 0\n",
    "\n",
    "for experiment in ['Appearances HAR JS', 'Appearances WARC JS']:\n",
    "    df_zero = df[(df[experiment] == 0) & (df[\"Appearances PG\"] > 0) & (df[\"Appearances JS\"] > 0)]\n",
    "    print(f\"GT and PG are greater zero, {experiment} is not: {df_zero['origin'].count()}\")\n",
    "    df_zero = df[(df[experiment] == 0) & (df[\"Appearances PG\"] > 0) & (df[\"Appearances JS\"] == 0)]\n",
    "    print(f\"PG is greater zero, GT and {experiment} is not: {df_zero['origin'].count()}\")\n",
    "    df_zero = df[(df[experiment] > 0) & (df[\"Appearances PG\"] == 0) & (df[\"Appearances JS\"] > 0)]\n",
    "    print(f\"PG is zero, GT and {experiment} is not: {df_zero['origin'].count()}\")\n",
    "    print(\"---\")\n"
   ]
  },
  {
   "cell_type": "code",
   "execution_count": 7,
   "metadata": {},
   "outputs": [
    {
     "data": {
      "text/html": [
       "<div>\n",
       "<style scoped>\n",
       "    .dataframe tbody tr th:only-of-type {\n",
       "        vertical-align: middle;\n",
       "    }\n",
       "\n",
       "    .dataframe tbody tr th {\n",
       "        vertical-align: top;\n",
       "    }\n",
       "\n",
       "    .dataframe thead th {\n",
       "        text-align: right;\n",
       "    }\n",
       "</style>\n",
       "<table border=\"1\" class=\"dataframe\">\n",
       "  <thead>\n",
       "    <tr style=\"text-align: right;\">\n",
       "      <th></th>\n",
       "      <th>Call</th>\n",
       "      <th>Appearances JS</th>\n",
       "      <th>Appearances PG</th>\n",
       "      <th>Appearances HAR JS</th>\n",
       "      <th>Appearances WARC JS</th>\n",
       "      <th>origin</th>\n",
       "      <th>Standard</th>\n",
       "      <th>PercDiff Appearances PG</th>\n",
       "      <th>PercDiff Appearances HAR JS</th>\n",
       "      <th>PercDiff Appearances WARC JS</th>\n",
       "    </tr>\n",
       "  </thead>\n",
       "  <tbody>\n",
       "    <tr>\n",
       "      <th>0</th>\n",
       "      <td>Window.setTimeout</td>\n",
       "      <td>1</td>\n",
       "      <td>1</td>\n",
       "      <td>1</td>\n",
       "      <td>1</td>\n",
       "      <td>http_localtest.me:8000</td>\n",
       "      <td>CSS_OM</td>\n",
       "      <td>0.0</td>\n",
       "      <td>0.0</td>\n",
       "      <td>0.0</td>\n",
       "    </tr>\n",
       "  </tbody>\n",
       "</table>\n",
       "</div>"
      ],
      "text/plain": [
       "                Call  Appearances JS  Appearances PG  Appearances HAR JS  \\\n",
       "0  Window.setTimeout               1               1                   1   \n",
       "\n",
       "   Appearances WARC JS                  origin Standard  \\\n",
       "0                    1  http_localtest.me:8000   CSS_OM   \n",
       "\n",
       "   PercDiff Appearances PG  PercDiff Appearances HAR JS  \\\n",
       "0                      0.0                          0.0   \n",
       "\n",
       "   PercDiff Appearances WARC JS  \n",
       "0                           0.0  "
      ]
     },
     "metadata": {},
     "output_type": "display_data"
    },
    {
     "name": "stdout",
     "output_type": "stream",
     "text": [
      "0.0\n",
      "0.0\n",
      "0.0\n"
     ]
    }
   ],
   "source": [
    "df_test = df # [df[\"Call\"] == \"CSSRuleList.length.get\"]\n",
    "\n",
    "for experiment in ['Appearances PG', 'Appearances HAR JS', 'Appearances WARC JS']:\n",
    "    df_test[\"PercDiff \" + experiment] = abs(df_test[\"Appearances JS\"] - df_test[experiment]) / (df_test[\"Appearances JS\"]+df_test[experiment]) / 2\n",
    "\n",
    "\n",
    "df_test['PercDiff Appearances PG'] = df_test['PercDiff Appearances PG'].infer_objects(copy=False).fillna(0)\n",
    "df_test['PercDiff Appearances HAR JS'] = df_test['PercDiff Appearances HAR JS'].infer_objects(copy=False).fillna(0)\n",
    "df_test['PercDiff Appearances WARC JS'] = df_test['PercDiff Appearances WARC JS'].infer_objects(copy=False).fillna(0)\n",
    "display(df_test)\n",
    "\n",
    "print(df_test[df_test['Appearances JS'] != 0][\"PercDiff Appearances PG\"].mean())\n",
    "print(df_test[df_test['Appearances JS'] != 0][\"PercDiff Appearances HAR JS\"].mean())\n",
    "print(df_test[df_test['Appearances JS'] != 0][\"PercDiff Appearances WARC JS\"].mean())\n"
   ]
  },
  {
   "cell_type": "code",
   "execution_count": 8,
   "metadata": {},
   "outputs": [
    {
     "data": {
      "text/html": [
       "<div>\n",
       "<style scoped>\n",
       "    .dataframe tbody tr th:only-of-type {\n",
       "        vertical-align: middle;\n",
       "    }\n",
       "\n",
       "    .dataframe tbody tr th {\n",
       "        vertical-align: top;\n",
       "    }\n",
       "\n",
       "    .dataframe thead th {\n",
       "        text-align: right;\n",
       "    }\n",
       "</style>\n",
       "<table border=\"1\" class=\"dataframe\">\n",
       "  <thead>\n",
       "    <tr style=\"text-align: right;\">\n",
       "      <th></th>\n",
       "      <th>PercDiff Appearances PG</th>\n",
       "      <th>PercDiff Appearances HAR JS</th>\n",
       "      <th>PercDiff Appearances WARC JS</th>\n",
       "    </tr>\n",
       "    <tr>\n",
       "      <th>Call</th>\n",
       "      <th></th>\n",
       "      <th></th>\n",
       "      <th></th>\n",
       "    </tr>\n",
       "  </thead>\n",
       "  <tbody>\n",
       "  </tbody>\n",
       "</table>\n",
       "</div>"
      ],
      "text/plain": [
       "Empty DataFrame\n",
       "Columns: [PercDiff Appearances PG, PercDiff Appearances HAR JS, PercDiff Appearances WARC JS]\n",
       "Index: []"
      ]
     },
     "metadata": {},
     "output_type": "display_data"
    }
   ],
   "source": [
    "df_pg_diff = df_test[[\"Call\", \"PercDiff Appearances PG\", \"PercDiff Appearances HAR JS\", \"PercDiff Appearances WARC JS\"]]\n",
    "df_pg_diff = df_pg_diff.groupby(by=[\"Call\"]).mean().sort_values(\"PercDiff Appearances PG\")\n",
    "\n",
    "filt = (df_pg_diff[\"PercDiff Appearances PG\"] > df_pg_diff[\"PercDiff Appearances HAR JS\"]) | (df_pg_diff[\"PercDiff Appearances PG\"] > df_pg_diff[\"PercDiff Appearances WARC JS\"])\n",
    "\n",
    "\"\"\"\n",
    "for idx in df_pg_diff.index:\n",
    "    if (df_pg_diff[\"PercDiff Appearances PG\"][idx] > df_pg_diff[\"PercDiff Appearances HAR JS\"][idx] or\n",
    "        df_pg_diff[\"PercDiff Appearances PG\"][idx] > df_pg_diff[\"PercDiff Appearances WARC JS\"][idx]):\n",
    "        print(idx, df_pg_diff[\"PercDiff Appearances PG\"][idx])\n",
    "\"\"\"\n",
    "\n",
    "display(df_pg_diff[filt])"
   ]
  },
  {
   "cell_type": "code",
   "execution_count": 9,
   "metadata": {},
   "outputs": [
    {
     "data": {
      "text/plain": [
       "0"
      ]
     },
     "metadata": {},
     "output_type": "display_data"
    }
   ],
   "source": [
    "differing_appearances = df[df['Appearances JS'] > df['Appearances PG']]\n",
    "display(differing_appearances['origin'].drop_duplicates().count())\n",
    "\n",
    "# display(df)"
   ]
  }
 ],
 "metadata": {
  "kernelspec": {
   "display_name": "venv",
   "language": "python",
   "name": "python3"
  },
  "language_info": {
   "codemirror_mode": {
    "name": "ipython",
    "version": 3
   },
   "file_extension": ".py",
   "mimetype": "text/x-python",
   "name": "python",
   "nbconvert_exporter": "python",
   "pygments_lexer": "ipython3",
   "version": "3.10.12"
  }
 },
 "nbformat": 4,
 "nbformat_minor": 4
}
