{
 "cells": [
  {
   "cell_type": "code",
   "execution_count": 1,
   "id": "57299c35-a9e2-4b64-bf9e-92295c446adc",
   "metadata": {},
   "outputs": [],
   "source": [
    "import pandas as pd"
   ]
  },
  {
   "cell_type": "code",
   "execution_count": 2,
   "id": "8e9492ad-ada6-4bdc-b1a5-2c7a753dd74a",
   "metadata": {},
   "outputs": [
    {
     "data": {
      "text/html": [
       "<div>\n",
       "<style scoped>\n",
       "    .dataframe tbody tr th:only-of-type {\n",
       "        vertical-align: middle;\n",
       "    }\n",
       "\n",
       "    .dataframe tbody tr th {\n",
       "        vertical-align: top;\n",
       "    }\n",
       "\n",
       "    .dataframe thead th {\n",
       "        text-align: right;\n",
       "    }\n",
       "</style>\n",
       "<table border=\"1\" class=\"dataframe\">\n",
       "  <thead>\n",
       "    <tr style=\"text-align: right;\">\n",
       "      <th></th>\n",
       "      <th>origin</th>\n",
       "      <th>GT</th>\n",
       "      <th>False GT</th>\n",
       "      <th>False on GT</th>\n",
       "      <th>PG</th>\n",
       "      <th>WARC</th>\n",
       "      <th>HAR</th>\n",
       "      <th>error</th>\n",
       "    </tr>\n",
       "  </thead>\n",
       "  <tbody>\n",
       "    <tr>\n",
       "      <th>0</th>\n",
       "      <td>http_localtest.me:8000</td>\n",
       "      <td>1</td>\n",
       "      <td>0</td>\n",
       "      <td>0</td>\n",
       "      <td>1</td>\n",
       "      <td>1</td>\n",
       "      <td>1</td>\n",
       "      <td>NaN</td>\n",
       "    </tr>\n",
       "  </tbody>\n",
       "</table>\n",
       "</div>"
      ],
      "text/plain": [
       "                   origin  GT  False GT  False on GT  PG  WARC  HAR  error\n",
       "0  http_localtest.me:8000   1         0            0   1     1    1    NaN"
      ]
     },
     "metadata": {},
     "output_type": "display_data"
    },
    {
     "name": "stdout",
     "output_type": "stream",
     "text": [
      "With error 0\n"
     ]
    },
    {
     "data": {
      "text/html": [
       "<div>\n",
       "<style scoped>\n",
       "    .dataframe tbody tr th:only-of-type {\n",
       "        vertical-align: middle;\n",
       "    }\n",
       "\n",
       "    .dataframe tbody tr th {\n",
       "        vertical-align: top;\n",
       "    }\n",
       "\n",
       "    .dataframe thead th {\n",
       "        text-align: right;\n",
       "    }\n",
       "</style>\n",
       "<table border=\"1\" class=\"dataframe\">\n",
       "  <thead>\n",
       "    <tr style=\"text-align: right;\">\n",
       "      <th></th>\n",
       "      <th>origin</th>\n",
       "      <th>GT</th>\n",
       "      <th>False GT</th>\n",
       "      <th>False on GT</th>\n",
       "      <th>PG</th>\n",
       "      <th>WARC</th>\n",
       "      <th>HAR</th>\n",
       "      <th>error</th>\n",
       "    </tr>\n",
       "  </thead>\n",
       "  <tbody>\n",
       "  </tbody>\n",
       "</table>\n",
       "</div>"
      ],
      "text/plain": [
       "Empty DataFrame\n",
       "Columns: [origin, GT, False GT, False on GT, PG, WARC, HAR, error]\n",
       "Index: []"
      ]
     },
     "metadata": {},
     "output_type": "display_data"
    }
   ],
   "source": [
    "csv_path = \"/home/ubuntu/hwpg-ae/analysis_ae/csp_results_1736714139.csv\" # -> With new method and request error mitigated\n",
    "\n",
    "df = pd.read_csv(csv_path)\n",
    "display(df)\n",
    "print(\"With error\", len(df[~df[\"error\"].isnull()]))\n",
    "display(df[~df[\"error\"].isnull()])\n",
    "\n",
    "df = df[df[\"error\"].isnull()]"
   ]
  },
  {
   "cell_type": "code",
   "execution_count": 3,
   "id": "0550fae6-5033-4973-9b6d-7919197d12de",
   "metadata": {},
   "outputs": [
    {
     "name": "stdout",
     "output_type": "stream",
     "text": [
      "Total 1\n",
      "PG (in paper) 1\n",
      "Smurf (in paper) 1\n",
      "HAR Smurf (in paper) 1\n",
      "WARC Smurf (in paper) 1\n",
      "----\n",
      "False false Smurf: 0\n",
      "False Smurf: 0\n",
      "Correct Smurf: 0\n",
      "All Smurf_1 (in paper): 1\n",
      "False Smurf (vs. PG): 0\n",
      "Correct Smurf (vs. PG): 0\n",
      "----\n",
      "0\n",
      "0\n"
     ]
    }
   ],
   "source": [
    "print(\"Total\", len(df))\n",
    "print(\"PG (in paper)\", len(df[df[\"PG\"] > 0]))\n",
    "print(\"Smurf (in paper)\", len(df[df[\"GT\"] > 0]))\n",
    "print(\"HAR Smurf (in paper)\", len(df[df[\"HAR\"] > 0]))\n",
    "print(\"WARC Smurf (in paper)\", len(df[df[\"WARC\"] > 0]))\n",
    "print(\"----\")\n",
    "print(\"False false Smurf:\", len(df[(df[\"False GT\"] > 0)]))\n",
    "print(\"False Smurf:\", len(df[(df[\"GT\"] == 0) & (df[\"False GT\"] > 0)]))\n",
    "print(\"Correct Smurf:\", len(df[(df[\"GT\"] > 0) & (df[\"False GT\"] > 0)]))\n",
    "print(\"All Smurf_1 (in paper):\", len(df[(df[\"GT\"] > 0) | (df[\"False GT\"] > 0)]))\n",
    "print(\"False Smurf (vs. PG):\", len(df[(df[\"PG\"] == 0) & (df[\"False GT\"] > 0)]))\n",
    "print(\"Correct Smurf (vs. PG):\", len(df[(df[\"PG\"] > 0) & (df[\"False GT\"] > 0)]))\n",
    "print(\"----\")\n",
    "print(len(df[(df[\"GT\"] > 0) & (df[\"PG\"] == 0)]))\n",
    "print(len(df[(df[\"GT\"] == 0) & (df[\"PG\"] > 0)]))"
   ]
  },
  {
   "cell_type": "code",
   "execution_count": 5,
   "id": "1cc05070-e229-4659-b987-363604315817",
   "metadata": {},
   "outputs": [
    {
     "data": {
      "text/html": [
       "<div>\n",
       "<style scoped>\n",
       "    .dataframe tbody tr th:only-of-type {\n",
       "        vertical-align: middle;\n",
       "    }\n",
       "\n",
       "    .dataframe tbody tr th {\n",
       "        vertical-align: top;\n",
       "    }\n",
       "\n",
       "    .dataframe thead th {\n",
       "        text-align: right;\n",
       "    }\n",
       "</style>\n",
       "<table border=\"1\" class=\"dataframe\">\n",
       "  <thead>\n",
       "    <tr style=\"text-align: right;\">\n",
       "      <th></th>\n",
       "      <th>origin</th>\n",
       "      <th>GT</th>\n",
       "      <th>False GT</th>\n",
       "      <th>False on GT</th>\n",
       "      <th>PG</th>\n",
       "      <th>WARC</th>\n",
       "      <th>HAR</th>\n",
       "      <th>error</th>\n",
       "    </tr>\n",
       "  </thead>\n",
       "  <tbody>\n",
       "    <tr>\n",
       "      <th>0</th>\n",
       "      <td>http_localtest.me:8000</td>\n",
       "      <td>1</td>\n",
       "      <td>0</td>\n",
       "      <td>0</td>\n",
       "      <td>1</td>\n",
       "      <td>1</td>\n",
       "      <td>1</td>\n",
       "      <td>NaN</td>\n",
       "    </tr>\n",
       "  </tbody>\n",
       "</table>\n",
       "</div>"
      ],
      "text/plain": [
       "                   origin  GT  False GT  False on GT  PG  WARC  HAR  error\n",
       "0  http_localtest.me:8000   1         0            0   1     1    1    NaN"
      ]
     },
     "execution_count": 5,
     "metadata": {},
     "output_type": "execute_result"
    }
   ],
   "source": [
    "df[df[\"GT\"] > 0]"
   ]
  },
  {
   "cell_type": "code",
   "execution_count": 6,
   "id": "52dc0be6-fe62-4932-8e1c-0d629ed99d28",
   "metadata": {},
   "outputs": [
    {
     "data": {
      "text/html": [
       "<div>\n",
       "<style scoped>\n",
       "    .dataframe tbody tr th:only-of-type {\n",
       "        vertical-align: middle;\n",
       "    }\n",
       "\n",
       "    .dataframe tbody tr th {\n",
       "        vertical-align: top;\n",
       "    }\n",
       "\n",
       "    .dataframe thead th {\n",
       "        text-align: right;\n",
       "    }\n",
       "</style>\n",
       "<table border=\"1\" class=\"dataframe\">\n",
       "  <thead>\n",
       "    <tr style=\"text-align: right;\">\n",
       "      <th></th>\n",
       "      <th>origin</th>\n",
       "      <th>GT</th>\n",
       "      <th>False GT</th>\n",
       "      <th>False on GT</th>\n",
       "      <th>PG</th>\n",
       "      <th>WARC</th>\n",
       "      <th>HAR</th>\n",
       "      <th>error</th>\n",
       "    </tr>\n",
       "  </thead>\n",
       "  <tbody>\n",
       "  </tbody>\n",
       "</table>\n",
       "</div>"
      ],
      "text/plain": [
       "Empty DataFrame\n",
       "Columns: [origin, GT, False GT, False on GT, PG, WARC, HAR, error]\n",
       "Index: []"
      ]
     },
     "execution_count": 6,
     "metadata": {},
     "output_type": "execute_result"
    }
   ],
   "source": [
    "df[(df[\"GT\"] > 0) & (df[\"False GT\"] > 0)]"
   ]
  },
  {
   "cell_type": "code",
   "execution_count": 7,
   "id": "820202c0-12bb-41fe-b7b0-1cd2798d94fe",
   "metadata": {},
   "outputs": [
    {
     "data": {
      "text/html": [
       "<div>\n",
       "<style scoped>\n",
       "    .dataframe tbody tr th:only-of-type {\n",
       "        vertical-align: middle;\n",
       "    }\n",
       "\n",
       "    .dataframe tbody tr th {\n",
       "        vertical-align: top;\n",
       "    }\n",
       "\n",
       "    .dataframe thead th {\n",
       "        text-align: right;\n",
       "    }\n",
       "</style>\n",
       "<table border=\"1\" class=\"dataframe\">\n",
       "  <thead>\n",
       "    <tr style=\"text-align: right;\">\n",
       "      <th></th>\n",
       "      <th>origin</th>\n",
       "      <th>GT</th>\n",
       "      <th>False GT</th>\n",
       "      <th>False on GT</th>\n",
       "      <th>PG</th>\n",
       "      <th>WARC</th>\n",
       "      <th>HAR</th>\n",
       "      <th>error</th>\n",
       "    </tr>\n",
       "  </thead>\n",
       "  <tbody>\n",
       "  </tbody>\n",
       "</table>\n",
       "</div>"
      ],
      "text/plain": [
       "Empty DataFrame\n",
       "Columns: [origin, GT, False GT, False on GT, PG, WARC, HAR, error]\n",
       "Index: []"
      ]
     },
     "execution_count": 7,
     "metadata": {},
     "output_type": "execute_result"
    }
   ],
   "source": [
    "df[(df[\"GT\"] == 0) & (df[\"False GT\"] > 0)]"
   ]
  },
  {
   "cell_type": "code",
   "execution_count": 8,
   "id": "2a461c06-accb-4f42-80c7-ca81d6b1ea83",
   "metadata": {},
   "outputs": [
    {
     "data": {
      "text/html": [
       "<div>\n",
       "<style scoped>\n",
       "    .dataframe tbody tr th:only-of-type {\n",
       "        vertical-align: middle;\n",
       "    }\n",
       "\n",
       "    .dataframe tbody tr th {\n",
       "        vertical-align: top;\n",
       "    }\n",
       "\n",
       "    .dataframe thead th {\n",
       "        text-align: right;\n",
       "    }\n",
       "</style>\n",
       "<table border=\"1\" class=\"dataframe\">\n",
       "  <thead>\n",
       "    <tr style=\"text-align: right;\">\n",
       "      <th></th>\n",
       "      <th>origin</th>\n",
       "      <th>GT</th>\n",
       "      <th>False GT</th>\n",
       "      <th>False on GT</th>\n",
       "      <th>PG</th>\n",
       "      <th>WARC</th>\n",
       "      <th>HAR</th>\n",
       "      <th>error</th>\n",
       "    </tr>\n",
       "  </thead>\n",
       "  <tbody>\n",
       "    <tr>\n",
       "      <th>0</th>\n",
       "      <td>http_localtest.me:8000</td>\n",
       "      <td>1</td>\n",
       "      <td>0</td>\n",
       "      <td>0</td>\n",
       "      <td>1</td>\n",
       "      <td>1</td>\n",
       "      <td>1</td>\n",
       "      <td>NaN</td>\n",
       "    </tr>\n",
       "  </tbody>\n",
       "</table>\n",
       "</div>"
      ],
      "text/plain": [
       "                   origin  GT  False GT  False on GT  PG  WARC  HAR  error\n",
       "0  http_localtest.me:8000   1         0            0   1     1    1    NaN"
      ]
     },
     "execution_count": 8,
     "metadata": {},
     "output_type": "execute_result"
    }
   ],
   "source": [
    "df[df[\"PG\"] > 0]"
   ]
  },
  {
   "cell_type": "code",
   "execution_count": 9,
   "id": "80ae2a4a-aa47-4ff9-80ac-1c4845797dec",
   "metadata": {},
   "outputs": [
    {
     "data": {
      "text/html": [
       "<div>\n",
       "<style scoped>\n",
       "    .dataframe tbody tr th:only-of-type {\n",
       "        vertical-align: middle;\n",
       "    }\n",
       "\n",
       "    .dataframe tbody tr th {\n",
       "        vertical-align: top;\n",
       "    }\n",
       "\n",
       "    .dataframe thead th {\n",
       "        text-align: right;\n",
       "    }\n",
       "</style>\n",
       "<table border=\"1\" class=\"dataframe\">\n",
       "  <thead>\n",
       "    <tr style=\"text-align: right;\">\n",
       "      <th></th>\n",
       "      <th>origin</th>\n",
       "      <th>GT</th>\n",
       "      <th>False GT</th>\n",
       "      <th>False on GT</th>\n",
       "      <th>PG</th>\n",
       "      <th>WARC</th>\n",
       "      <th>HAR</th>\n",
       "      <th>error</th>\n",
       "    </tr>\n",
       "  </thead>\n",
       "  <tbody>\n",
       "    <tr>\n",
       "      <th>0</th>\n",
       "      <td>http_localtest.me:8000</td>\n",
       "      <td>1</td>\n",
       "      <td>0</td>\n",
       "      <td>0</td>\n",
       "      <td>1</td>\n",
       "      <td>1</td>\n",
       "      <td>1</td>\n",
       "      <td>NaN</td>\n",
       "    </tr>\n",
       "  </tbody>\n",
       "</table>\n",
       "</div>"
      ],
      "text/plain": [
       "                   origin  GT  False GT  False on GT  PG  WARC  HAR  error\n",
       "0  http_localtest.me:8000   1         0            0   1     1    1    NaN"
      ]
     },
     "execution_count": 9,
     "metadata": {},
     "output_type": "execute_result"
    }
   ],
   "source": [
    "df[df[\"GT\"] == df[\"PG\"]]"
   ]
  },
  {
   "cell_type": "code",
   "execution_count": 10,
   "id": "f46e39f7-7efb-4c6c-93c2-c7396836aae6",
   "metadata": {},
   "outputs": [
    {
     "data": {
      "text/html": [
       "<div>\n",
       "<style scoped>\n",
       "    .dataframe tbody tr th:only-of-type {\n",
       "        vertical-align: middle;\n",
       "    }\n",
       "\n",
       "    .dataframe tbody tr th {\n",
       "        vertical-align: top;\n",
       "    }\n",
       "\n",
       "    .dataframe thead th {\n",
       "        text-align: right;\n",
       "    }\n",
       "</style>\n",
       "<table border=\"1\" class=\"dataframe\">\n",
       "  <thead>\n",
       "    <tr style=\"text-align: right;\">\n",
       "      <th></th>\n",
       "      <th>origin</th>\n",
       "      <th>GT</th>\n",
       "      <th>False GT</th>\n",
       "      <th>False on GT</th>\n",
       "      <th>PG</th>\n",
       "      <th>WARC</th>\n",
       "      <th>HAR</th>\n",
       "      <th>error</th>\n",
       "    </tr>\n",
       "  </thead>\n",
       "  <tbody>\n",
       "  </tbody>\n",
       "</table>\n",
       "</div>"
      ],
      "text/plain": [
       "Empty DataFrame\n",
       "Columns: [origin, GT, False GT, False on GT, PG, WARC, HAR, error]\n",
       "Index: []"
      ]
     },
     "execution_count": 10,
     "metadata": {},
     "output_type": "execute_result"
    }
   ],
   "source": [
    "df[df[\"GT\"] != df[\"PG\"]]"
   ]
  },
  {
   "cell_type": "code",
   "execution_count": 11,
   "id": "c663864f-cafa-4eff-9bfc-b96be9382dbc",
   "metadata": {},
   "outputs": [
    {
     "name": "stdout",
     "output_type": "stream",
     "text": [
      "0\n"
     ]
    },
    {
     "data": {
      "text/html": [
       "<div>\n",
       "<style scoped>\n",
       "    .dataframe tbody tr th:only-of-type {\n",
       "        vertical-align: middle;\n",
       "    }\n",
       "\n",
       "    .dataframe tbody tr th {\n",
       "        vertical-align: top;\n",
       "    }\n",
       "\n",
       "    .dataframe thead th {\n",
       "        text-align: right;\n",
       "    }\n",
       "</style>\n",
       "<table border=\"1\" class=\"dataframe\">\n",
       "  <thead>\n",
       "    <tr style=\"text-align: right;\">\n",
       "      <th></th>\n",
       "      <th>origin</th>\n",
       "      <th>GT</th>\n",
       "      <th>PG</th>\n",
       "    </tr>\n",
       "  </thead>\n",
       "  <tbody>\n",
       "  </tbody>\n",
       "</table>\n",
       "</div>"
      ],
      "text/plain": [
       "Empty DataFrame\n",
       "Columns: [origin, GT, PG]\n",
       "Index: []"
      ]
     },
     "metadata": {},
     "output_type": "display_data"
    }
   ],
   "source": [
    "print(len(df[df[\"GT\"] > df[\"PG\"]]))\n",
    "display(df[df[\"GT\"] > df[\"PG\"]][[\"origin\", \"GT\", \"PG\"]])"
   ]
  },
  {
   "cell_type": "code",
   "execution_count": 12,
   "id": "dab3881a-03b8-4784-b6ef-e5d7fbe14663",
   "metadata": {},
   "outputs": [
    {
     "name": "stdout",
     "output_type": "stream",
     "text": [
      "0\n"
     ]
    },
    {
     "data": {
      "text/html": [
       "<div>\n",
       "<style scoped>\n",
       "    .dataframe tbody tr th:only-of-type {\n",
       "        vertical-align: middle;\n",
       "    }\n",
       "\n",
       "    .dataframe tbody tr th {\n",
       "        vertical-align: top;\n",
       "    }\n",
       "\n",
       "    .dataframe thead th {\n",
       "        text-align: right;\n",
       "    }\n",
       "</style>\n",
       "<table border=\"1\" class=\"dataframe\">\n",
       "  <thead>\n",
       "    <tr style=\"text-align: right;\">\n",
       "      <th></th>\n",
       "      <th>origin</th>\n",
       "      <th>GT</th>\n",
       "      <th>False GT</th>\n",
       "      <th>False on GT</th>\n",
       "      <th>PG</th>\n",
       "      <th>WARC</th>\n",
       "      <th>HAR</th>\n",
       "      <th>error</th>\n",
       "    </tr>\n",
       "  </thead>\n",
       "  <tbody>\n",
       "  </tbody>\n",
       "</table>\n",
       "</div>"
      ],
      "text/plain": [
       "Empty DataFrame\n",
       "Columns: [origin, GT, False GT, False on GT, PG, WARC, HAR, error]\n",
       "Index: []"
      ]
     },
     "metadata": {},
     "output_type": "display_data"
    }
   ],
   "source": [
    "print(len(df[(df[\"GT\"] == 0) & (df[\"PG\"] > 0)]))\n",
    "display(df[(df[\"GT\"] == 0) & (df[\"PG\"] > 0)])"
   ]
  },
  {
   "cell_type": "code",
   "execution_count": 13,
   "id": "470e7657-aa7b-43df-a165-a9fd680bac79",
   "metadata": {},
   "outputs": [
    {
     "name": "stdout",
     "output_type": "stream",
     "text": [
      "0\n"
     ]
    },
    {
     "data": {
      "text/html": [
       "<div>\n",
       "<style scoped>\n",
       "    .dataframe tbody tr th:only-of-type {\n",
       "        vertical-align: middle;\n",
       "    }\n",
       "\n",
       "    .dataframe tbody tr th {\n",
       "        vertical-align: top;\n",
       "    }\n",
       "\n",
       "    .dataframe thead th {\n",
       "        text-align: right;\n",
       "    }\n",
       "</style>\n",
       "<table border=\"1\" class=\"dataframe\">\n",
       "  <thead>\n",
       "    <tr style=\"text-align: right;\">\n",
       "      <th></th>\n",
       "      <th>origin</th>\n",
       "      <th>GT</th>\n",
       "      <th>False GT</th>\n",
       "      <th>False on GT</th>\n",
       "      <th>PG</th>\n",
       "      <th>WARC</th>\n",
       "      <th>HAR</th>\n",
       "      <th>error</th>\n",
       "    </tr>\n",
       "  </thead>\n",
       "  <tbody>\n",
       "  </tbody>\n",
       "</table>\n",
       "</div>"
      ],
      "text/plain": [
       "Empty DataFrame\n",
       "Columns: [origin, GT, False GT, False on GT, PG, WARC, HAR, error]\n",
       "Index: []"
      ]
     },
     "metadata": {},
     "output_type": "display_data"
    }
   ],
   "source": [
    "print(len(df[(df[\"GT\"] > 0) & (df[\"PG\"] == 0)]))\n",
    "display(df[(df[\"GT\"] > 0) & (df[\"PG\"] == 0)])"
   ]
  },
  {
   "cell_type": "code",
   "execution_count": 14,
   "id": "33c3fe65-b223-4b7b-9040-20ff75d19128",
   "metadata": {},
   "outputs": [
    {
     "data": {
      "text/plain": [
       "array([], dtype=object)"
      ]
     },
     "execution_count": 14,
     "metadata": {},
     "output_type": "execute_result"
    }
   ],
   "source": [
    "df[(df[\"GT\"] > 0) & (df[\"PG\"] == 0)][\"origin\"].values"
   ]
  }
 ],
 "metadata": {
  "kernelspec": {
   "display_name": "venv",
   "language": "python",
   "name": "python3"
  },
  "language_info": {
   "codemirror_mode": {
    "name": "ipython",
    "version": 3
   },
   "file_extension": ".py",
   "mimetype": "text/x-python",
   "name": "python",
   "nbconvert_exporter": "python",
   "pygments_lexer": "ipython3",
   "version": "3.10.12"
  }
 },
 "nbformat": 4,
 "nbformat_minor": 5
}
