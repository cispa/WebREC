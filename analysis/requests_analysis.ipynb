{
 "cells": [
  {
   "cell_type": "code",
   "execution_count": 84,
   "id": "144592f6-f73b-43b2-b668-8a5cc60bcb96",
   "metadata": {},
   "outputs": [],
   "source": [
    "%matplotlib inline\n",
    "import pandas as pd\n",
    "import numpy as np\n",
    "import matplotlib.pyplot as plt\n",
    "\n",
    "import matplotlib.patches as mpatches\n",
    "from collections import Counter"
   ]
  },
  {
   "cell_type": "code",
   "execution_count": 85,
   "id": "5a8acd5c-e168-4284-b782-c3acff0b90ed",
   "metadata": {},
   "outputs": [
    {
     "data": {
      "text/html": [
       "<div>\n",
       "<style scoped>\n",
       "    .dataframe tbody tr th:only-of-type {\n",
       "        vertical-align: middle;\n",
       "    }\n",
       "\n",
       "    .dataframe tbody tr th {\n",
       "        vertical-align: top;\n",
       "    }\n",
       "\n",
       "    .dataframe thead th {\n",
       "        text-align: right;\n",
       "    }\n",
       "</style>\n",
       "<table border=\"1\" class=\"dataframe\">\n",
       "  <thead>\n",
       "    <tr style=\"text-align: right;\">\n",
       "      <th></th>\n",
       "      <th>url</th>\n",
       "      <th>source</th>\n",
       "      <th>additional_info</th>\n",
       "      <th>url_site</th>\n",
       "      <th>origin</th>\n",
       "      <th>pg_origin</th>\n",
       "      <th>site</th>\n",
       "      <th>easylist</th>\n",
       "      <th>easyprivacy</th>\n",
       "      <th>third_party</th>\n",
       "    </tr>\n",
       "  </thead>\n",
       "  <tbody>\n",
       "    <tr>\n",
       "      <th>0</th>\n",
       "      <td>http://localtest.me:8000/favicon.ico</td>\n",
       "      <td>PG</td>\n",
       "      <td>NaN</td>\n",
       "      <td>localtest.me</td>\n",
       "      <td>http_localtest.me:8000</td>\n",
       "      <td>http://localtest.me:8000</td>\n",
       "      <td>localtest.me</td>\n",
       "      <td>False</td>\n",
       "      <td>False</td>\n",
       "      <td>False</td>\n",
       "    </tr>\n",
       "    <tr>\n",
       "      <th>1</th>\n",
       "      <td>http://localtest.me:8000/script.js</td>\n",
       "      <td>PG</td>\n",
       "      <td>NaN</td>\n",
       "      <td>localtest.me</td>\n",
       "      <td>http_localtest.me:8000</td>\n",
       "      <td>http://localtest.me:8000</td>\n",
       "      <td>localtest.me</td>\n",
       "      <td>False</td>\n",
       "      <td>False</td>\n",
       "      <td>False</td>\n",
       "    </tr>\n",
       "    <tr>\n",
       "      <th>2</th>\n",
       "      <td>http://localtest.me:8000/x</td>\n",
       "      <td>PG</td>\n",
       "      <td>NaN</td>\n",
       "      <td>localtest.me</td>\n",
       "      <td>http_localtest.me:8000</td>\n",
       "      <td>http://localtest.me:8000</td>\n",
       "      <td>localtest.me</td>\n",
       "      <td>False</td>\n",
       "      <td>False</td>\n",
       "      <td>False</td>\n",
       "    </tr>\n",
       "    <tr>\n",
       "      <th>3</th>\n",
       "      <td>http://www.googletagmanager.com/gtag/js?id=XXXXXX</td>\n",
       "      <td>PG</td>\n",
       "      <td>NaN</td>\n",
       "      <td>googletagmanager.com</td>\n",
       "      <td>http_localtest.me:8000</td>\n",
       "      <td>http://localtest.me:8000</td>\n",
       "      <td>localtest.me</td>\n",
       "      <td>False</td>\n",
       "      <td>True</td>\n",
       "      <td>True</td>\n",
       "    </tr>\n",
       "    <tr>\n",
       "      <th>4</th>\n",
       "      <td>https://localtest.me:8000/</td>\n",
       "      <td>PG</td>\n",
       "      <td>NaN</td>\n",
       "      <td>localtest.me</td>\n",
       "      <td>http_localtest.me:8000</td>\n",
       "      <td>http://localtest.me:8000</td>\n",
       "      <td>localtest.me</td>\n",
       "      <td>False</td>\n",
       "      <td>False</td>\n",
       "      <td>False</td>\n",
       "    </tr>\n",
       "    <tr>\n",
       "      <th>5</th>\n",
       "      <td>http://localtest.me:8000/</td>\n",
       "      <td>HAR</td>\n",
       "      <td>NaN</td>\n",
       "      <td>localtest.me</td>\n",
       "      <td>http_localtest.me:8000</td>\n",
       "      <td>http://localtest.me:8000</td>\n",
       "      <td>localtest.me</td>\n",
       "      <td>False</td>\n",
       "      <td>False</td>\n",
       "      <td>False</td>\n",
       "    </tr>\n",
       "    <tr>\n",
       "      <th>6</th>\n",
       "      <td>http://localtest.me:8000/script.js</td>\n",
       "      <td>HAR</td>\n",
       "      <td>NaN</td>\n",
       "      <td>localtest.me</td>\n",
       "      <td>http_localtest.me:8000</td>\n",
       "      <td>http://localtest.me:8000</td>\n",
       "      <td>localtest.me</td>\n",
       "      <td>False</td>\n",
       "      <td>False</td>\n",
       "      <td>False</td>\n",
       "    </tr>\n",
       "    <tr>\n",
       "      <th>7</th>\n",
       "      <td>http://localtest.me:8000/x</td>\n",
       "      <td>HAR</td>\n",
       "      <td>NaN</td>\n",
       "      <td>localtest.me</td>\n",
       "      <td>http_localtest.me:8000</td>\n",
       "      <td>http://localtest.me:8000</td>\n",
       "      <td>localtest.me</td>\n",
       "      <td>False</td>\n",
       "      <td>False</td>\n",
       "      <td>False</td>\n",
       "    </tr>\n",
       "    <tr>\n",
       "      <th>8</th>\n",
       "      <td>https://www.googletagmanager.com/gtag/js?id=XX...</td>\n",
       "      <td>HAR</td>\n",
       "      <td>NaN</td>\n",
       "      <td>googletagmanager.com</td>\n",
       "      <td>http_localtest.me:8000</td>\n",
       "      <td>http://localtest.me:8000</td>\n",
       "      <td>localtest.me</td>\n",
       "      <td>False</td>\n",
       "      <td>True</td>\n",
       "      <td>True</td>\n",
       "    </tr>\n",
       "    <tr>\n",
       "      <th>9</th>\n",
       "      <td>http://localtest.me:8000/favicon.ico</td>\n",
       "      <td>HAR</td>\n",
       "      <td>NaN</td>\n",
       "      <td>localtest.me</td>\n",
       "      <td>http_localtest.me:8000</td>\n",
       "      <td>http://localtest.me:8000</td>\n",
       "      <td>localtest.me</td>\n",
       "      <td>False</td>\n",
       "      <td>False</td>\n",
       "      <td>False</td>\n",
       "    </tr>\n",
       "  </tbody>\n",
       "</table>\n",
       "</div>"
      ],
      "text/plain": [
       "                                                 url source  additional_info  \\\n",
       "0               http://localtest.me:8000/favicon.ico     PG              NaN   \n",
       "1                 http://localtest.me:8000/script.js     PG              NaN   \n",
       "2                         http://localtest.me:8000/x     PG              NaN   \n",
       "3  http://www.googletagmanager.com/gtag/js?id=XXXXXX     PG              NaN   \n",
       "4                         https://localtest.me:8000/     PG              NaN   \n",
       "5                          http://localtest.me:8000/    HAR              NaN   \n",
       "6                 http://localtest.me:8000/script.js    HAR              NaN   \n",
       "7                         http://localtest.me:8000/x    HAR              NaN   \n",
       "8  https://www.googletagmanager.com/gtag/js?id=XX...    HAR              NaN   \n",
       "9               http://localtest.me:8000/favicon.ico    HAR              NaN   \n",
       "\n",
       "               url_site                  origin                 pg_origin  \\\n",
       "0          localtest.me  http_localtest.me:8000  http://localtest.me:8000   \n",
       "1          localtest.me  http_localtest.me:8000  http://localtest.me:8000   \n",
       "2          localtest.me  http_localtest.me:8000  http://localtest.me:8000   \n",
       "3  googletagmanager.com  http_localtest.me:8000  http://localtest.me:8000   \n",
       "4          localtest.me  http_localtest.me:8000  http://localtest.me:8000   \n",
       "5          localtest.me  http_localtest.me:8000  http://localtest.me:8000   \n",
       "6          localtest.me  http_localtest.me:8000  http://localtest.me:8000   \n",
       "7          localtest.me  http_localtest.me:8000  http://localtest.me:8000   \n",
       "8  googletagmanager.com  http_localtest.me:8000  http://localtest.me:8000   \n",
       "9          localtest.me  http_localtest.me:8000  http://localtest.me:8000   \n",
       "\n",
       "           site  easylist  easyprivacy  third_party  \n",
       "0  localtest.me     False        False        False  \n",
       "1  localtest.me     False        False        False  \n",
       "2  localtest.me     False        False        False  \n",
       "3  localtest.me     False         True         True  \n",
       "4  localtest.me     False        False        False  \n",
       "5  localtest.me     False        False        False  \n",
       "6  localtest.me     False        False        False  \n",
       "7  localtest.me     False        False        False  \n",
       "8  localtest.me     False         True         True  \n",
       "9  localtest.me     False        False        False  "
      ]
     },
     "metadata": {},
     "output_type": "display_data"
    },
    {
     "name": "stdout",
     "output_type": "stream",
     "text": [
      "HAR requests: 5\n",
      "HAR requests (after filter): 5\n",
      "PG requests: 5\n",
      "0.0\n",
      "\n",
      "HAR requests (set): 5\n",
      "HAR requests (set, after filter): 5\n",
      "PG requests (set): 5\n",
      "0.0\n"
     ]
    }
   ],
   "source": [
    "csv_path = \"/home/ubuntu/hwpg-ae/analysis_ae/requests_results_1736775091_blocklists.csv\"\n",
    "df = pd.read_csv(csv_path)\n",
    "df = df[df[\"source\"] != \"WARC\"]\n",
    "\n",
    "origins = df[['origin']].nunique()\n",
    "\n",
    "display(df)\n",
    "har_requests_len = len(df[(df[\"source\"] == \"HAR\")])\n",
    "print(\"HAR requests:\", har_requests_len)\n",
    "har_requests_len_filter = len(df[(df[\"source\"] == \"HAR\") & (~df[\"additional_info\"].isin([\"har_redirects\", \"har_redirects_iframe\", \"har_prefetch\", \"har_csp_report\", \"har_websocket\", \"har_preflight\"]))])\n",
    "print(\"HAR requests (after filter):\", har_requests_len_filter)\n",
    "pg_requests_len = len(df[df[\"source\"] == \"PG\"])\n",
    "print(\"PG requests:\", pg_requests_len)\n",
    "print(abs(har_requests_len_filter - pg_requests_len) / ((har_requests_len_filter + pg_requests_len) / 2) * 100)\n",
    "\n",
    "print()\n",
    "\n",
    "har_requests_set_len = len(set(df[(df[\"source\"] == \"HAR\")][\"url\"]))\n",
    "print(\"HAR requests (set):\", har_requests_set_len)\n",
    "har_requests_set_len_filter = len(set(df[(df[\"source\"] == \"HAR\") & (~df[\"additional_info\"].isin([\"har_redirects\", \"har_redirects_iframe\", \"har_prefetch\", \"har_csp_report\", \"har_websocket\", \"har_preflight\"]))][\"url\"]))\n",
    "print(\"HAR requests (set, after filter):\", har_requests_set_len_filter)\n",
    "pg_requests_set_len = len(set(df[df[\"source\"] == \"PG\"][\"url\"]))\n",
    "print(\"PG requests (set):\", pg_requests_set_len)\n",
    "print(abs(har_requests_set_len_filter - pg_requests_set_len) / ((har_requests_set_len_filter + pg_requests_set_len) / 2) * 100)"
   ]
  },
  {
   "cell_type": "code",
   "execution_count": 86,
   "id": "6a463e24-8337-4ad1-ba9d-6314f4300307",
   "metadata": {},
   "outputs": [
    {
     "name": "stdout",
     "output_type": "stream",
     "text": [
      "redirect_filter 0\n",
      "iframe_redirect_filter 0\n",
      "csp_filter 0\n",
      "websocket_filter 0\n",
      "prefligth_filter 0\n"
     ]
    }
   ],
   "source": [
    "# How many requests are filtered\n",
    "\n",
    "redirect_filter = len(df[(df[\"source\"] == \"HAR\") & (df[\"additional_info\"] == \"har_redirects\")][\"url\"])\n",
    "print(\"redirect_filter\", redirect_filter)\n",
    "iframe_redirect_filter = len(df[(df[\"source\"] == \"HAR\") & (df[\"additional_info\"] == \"har_redirects_iframe\")][\"url\"])\n",
    "print(\"iframe_redirect_filter\", iframe_redirect_filter)\n",
    "csp_filter = len(df[(df[\"source\"] == \"HAR\") & (df[\"additional_info\"] == \"har_csp_report\")][\"url\"])\n",
    "print(\"csp_filter\", csp_filter)\n",
    "websocket_filter = len(df[(df[\"source\"] == \"HAR\") & (df[\"additional_info\"] == \"har_websocket\")][\"url\"])\n",
    "print(\"websocket_filter\", websocket_filter)\n",
    "prefligth_filter = len(df[(df[\"source\"] == \"HAR\") & (df[\"additional_info\"] == \"har_preflight\")][\"url\"])\n",
    "print(\"prefligth_filter\", prefligth_filter)\n"
   ]
  },
  {
   "cell_type": "code",
   "execution_count": 87,
   "id": "306abdb9-74fe-44b3-acdf-db730b8f976f",
   "metadata": {},
   "outputs": [
    {
     "name": "stdout",
     "output_type": "stream",
     "text": [
      "0\n"
     ]
    },
    {
     "data": {
      "text/html": [
       "<div>\n",
       "<style scoped>\n",
       "    .dataframe tbody tr th:only-of-type {\n",
       "        vertical-align: middle;\n",
       "    }\n",
       "\n",
       "    .dataframe tbody tr th {\n",
       "        vertical-align: top;\n",
       "    }\n",
       "\n",
       "    .dataframe thead th {\n",
       "        text-align: right;\n",
       "    }\n",
       "</style>\n",
       "<table border=\"1\" class=\"dataframe\">\n",
       "  <thead>\n",
       "    <tr style=\"text-align: right;\">\n",
       "      <th></th>\n",
       "      <th>url_site</th>\n",
       "      <th>site</th>\n",
       "    </tr>\n",
       "  </thead>\n",
       "  <tbody>\n",
       "    <tr>\n",
       "      <th>8</th>\n",
       "      <td>googletagmanager.com</td>\n",
       "      <td>localtest.me</td>\n",
       "    </tr>\n",
       "  </tbody>\n",
       "</table>\n",
       "</div>"
      ],
      "text/plain": [
       "               url_site          site\n",
       "8  googletagmanager.com  localtest.me"
      ]
     },
     "metadata": {},
     "output_type": "display_data"
    },
    {
     "data": {
      "text/html": [
       "<div>\n",
       "<style scoped>\n",
       "    .dataframe tbody tr th:only-of-type {\n",
       "        vertical-align: middle;\n",
       "    }\n",
       "\n",
       "    .dataframe tbody tr th {\n",
       "        vertical-align: top;\n",
       "    }\n",
       "\n",
       "    .dataframe thead th {\n",
       "        text-align: right;\n",
       "    }\n",
       "</style>\n",
       "<table border=\"1\" class=\"dataframe\">\n",
       "  <thead>\n",
       "    <tr style=\"text-align: right;\">\n",
       "      <th></th>\n",
       "      <th>site</th>\n",
       "    </tr>\n",
       "    <tr>\n",
       "      <th>url_site</th>\n",
       "      <th></th>\n",
       "    </tr>\n",
       "  </thead>\n",
       "  <tbody>\n",
       "    <tr>\n",
       "      <th>googletagmanager.com</th>\n",
       "      <td>1</td>\n",
       "    </tr>\n",
       "  </tbody>\n",
       "</table>\n",
       "</div>"
      ],
      "text/plain": [
       "                      site\n",
       "url_site                  \n",
       "googletagmanager.com     1"
      ]
     },
     "metadata": {},
     "output_type": "display_data"
    },
    {
     "name": "stdout",
     "output_type": "stream",
     "text": [
      "3rd parties at least 2 for HAR 0\n",
      "3rd parties on more than 1% 0 for HAR 1\n"
     ]
    },
    {
     "data": {
      "text/html": [
       "<div>\n",
       "<style scoped>\n",
       "    .dataframe tbody tr th:only-of-type {\n",
       "        vertical-align: middle;\n",
       "    }\n",
       "\n",
       "    .dataframe tbody tr th {\n",
       "        vertical-align: top;\n",
       "    }\n",
       "\n",
       "    .dataframe thead th {\n",
       "        text-align: right;\n",
       "    }\n",
       "</style>\n",
       "<table border=\"1\" class=\"dataframe\">\n",
       "  <thead>\n",
       "    <tr style=\"text-align: right;\">\n",
       "      <th></th>\n",
       "      <th>url_site</th>\n",
       "      <th>site</th>\n",
       "    </tr>\n",
       "  </thead>\n",
       "  <tbody>\n",
       "    <tr>\n",
       "      <th>3</th>\n",
       "      <td>googletagmanager.com</td>\n",
       "      <td>localtest.me</td>\n",
       "    </tr>\n",
       "  </tbody>\n",
       "</table>\n",
       "</div>"
      ],
      "text/plain": [
       "               url_site          site\n",
       "3  googletagmanager.com  localtest.me"
      ]
     },
     "metadata": {},
     "output_type": "display_data"
    },
    {
     "data": {
      "text/html": [
       "<div>\n",
       "<style scoped>\n",
       "    .dataframe tbody tr th:only-of-type {\n",
       "        vertical-align: middle;\n",
       "    }\n",
       "\n",
       "    .dataframe tbody tr th {\n",
       "        vertical-align: top;\n",
       "    }\n",
       "\n",
       "    .dataframe thead th {\n",
       "        text-align: right;\n",
       "    }\n",
       "</style>\n",
       "<table border=\"1\" class=\"dataframe\">\n",
       "  <thead>\n",
       "    <tr style=\"text-align: right;\">\n",
       "      <th></th>\n",
       "      <th>site</th>\n",
       "    </tr>\n",
       "    <tr>\n",
       "      <th>url_site</th>\n",
       "      <th></th>\n",
       "    </tr>\n",
       "  </thead>\n",
       "  <tbody>\n",
       "    <tr>\n",
       "      <th>googletagmanager.com</th>\n",
       "      <td>1</td>\n",
       "    </tr>\n",
       "  </tbody>\n",
       "</table>\n",
       "</div>"
      ],
      "text/plain": [
       "                      site\n",
       "url_site                  \n",
       "googletagmanager.com     1"
      ]
     },
     "metadata": {},
     "output_type": "display_data"
    },
    {
     "name": "stdout",
     "output_type": "stream",
     "text": [
      "3rd parties at least 2 for PG 0\n",
      "3rd parties on more than 1% 0 for PG 1\n"
     ]
    }
   ],
   "source": [
    "# How many third parties do we see at least on 2 first parties and what are the most prominent ones?\n",
    "one_percentage = int(round(len(set(df['origin'])) * 0.01))\n",
    "print(one_percentage)\n",
    "\n",
    "df_third_parties = df[(df[\"third_party\"] == True) & (df[\"source\"] == \"HAR\")][[\"url_site\", \"site\"]]\n",
    "df_third_parties = df_third_parties.drop_duplicates()\n",
    "display(df_third_parties.sort_values(\"url_site\"))\n",
    "df_third_parties = df_third_parties.groupby(\"url_site\").count()\n",
    "display(df_third_parties.sort_values(\"site\").tail(10))\n",
    "print(\"3rd parties at least 2 for HAR\", len(df_third_parties[df_third_parties[\"site\"] > 1]))\n",
    "print(f\"3rd parties on more than 1% {one_percentage} for HAR\", len(df_third_parties[df_third_parties[\"site\"] > one_percentage]))\n",
    "\n",
    "df_third_parties = df[(df[\"third_party\"] == True) & (df[\"source\"] == \"PG\")][[\"url_site\", \"site\"]]\n",
    "df_third_parties = df_third_parties.drop_duplicates()\n",
    "display(df_third_parties.sort_values(\"url_site\"))\n",
    "df_third_parties = df_third_parties.groupby(\"url_site\").count()\n",
    "display(df_third_parties.sort_values(\"site\").tail(10))\n",
    "print(\"3rd parties at least 2 for PG\", len(df_third_parties[df_third_parties[\"site\"] > 1]))\n",
    "print(f\"3rd parties on more than 1% {one_percentage} for PG\", len(df_third_parties[df_third_parties[\"site\"] > one_percentage]))"
   ]
  },
  {
   "cell_type": "code",
   "execution_count": 88,
   "id": "844edae7-d8a5-479a-a404-083f92dc2762",
   "metadata": {},
   "outputs": [
    {
     "data": {
      "text/html": [
       "<div>\n",
       "<style scoped>\n",
       "    .dataframe tbody tr th:only-of-type {\n",
       "        vertical-align: middle;\n",
       "    }\n",
       "\n",
       "    .dataframe tbody tr th {\n",
       "        vertical-align: top;\n",
       "    }\n",
       "\n",
       "    .dataframe thead th {\n",
       "        text-align: right;\n",
       "    }\n",
       "</style>\n",
       "<table border=\"1\" class=\"dataframe\">\n",
       "  <thead>\n",
       "    <tr style=\"text-align: right;\">\n",
       "      <th></th>\n",
       "      <th>site</th>\n",
       "    </tr>\n",
       "    <tr>\n",
       "      <th>url_site</th>\n",
       "      <th></th>\n",
       "    </tr>\n",
       "  </thead>\n",
       "  <tbody>\n",
       "    <tr>\n",
       "      <th>googletagmanager.com</th>\n",
       "      <td>1</td>\n",
       "    </tr>\n",
       "  </tbody>\n",
       "</table>\n",
       "</div>"
      ],
      "text/plain": [
       "                      site\n",
       "url_site                  \n",
       "googletagmanager.com     1"
      ]
     },
     "metadata": {},
     "output_type": "display_data"
    },
    {
     "data": {
      "text/html": [
       "<div>\n",
       "<style scoped>\n",
       "    .dataframe tbody tr th:only-of-type {\n",
       "        vertical-align: middle;\n",
       "    }\n",
       "\n",
       "    .dataframe tbody tr th {\n",
       "        vertical-align: top;\n",
       "    }\n",
       "\n",
       "    .dataframe thead th {\n",
       "        text-align: right;\n",
       "    }\n",
       "</style>\n",
       "<table border=\"1\" class=\"dataframe\">\n",
       "  <thead>\n",
       "    <tr style=\"text-align: right;\">\n",
       "      <th></th>\n",
       "      <th>site</th>\n",
       "    </tr>\n",
       "    <tr>\n",
       "      <th>url_site</th>\n",
       "      <th></th>\n",
       "    </tr>\n",
       "  </thead>\n",
       "  <tbody>\n",
       "    <tr>\n",
       "      <th>googletagmanager.com</th>\n",
       "      <td>1</td>\n",
       "    </tr>\n",
       "  </tbody>\n",
       "</table>\n",
       "</div>"
      ],
      "text/plain": [
       "                      site\n",
       "url_site                  \n",
       "googletagmanager.com     1"
      ]
     },
     "metadata": {},
     "output_type": "display_data"
    }
   ],
   "source": [
    "# Most prominent 3rd parties \n",
    "df_easyprivacy = df[(df[\"third_party\"] == True) & (df[\"source\"] == \"HAR\")][[\"url_site\", \"site\", \"source\"]]\n",
    "df_easyprivacy = df_easyprivacy[df_easyprivacy[\"source\"] == \"HAR\"]\n",
    "df_easyprivacy = df_easyprivacy[[\"url_site\", \"site\"]]\n",
    "df_easyprivacy = df_easyprivacy.drop_duplicates()\n",
    "display(df_easyprivacy.groupby(\"url_site\").count().sort_values(\"site\").tail(10))\n",
    "\n",
    "\n",
    "df_easyprivacy = df[(df[\"easyprivacy\"] == True) | (df[\"easyprivacy\"] == True)]\n",
    "df_easyprivacy = df_easyprivacy[df_easyprivacy[\"source\"] == \"PG\"]\n",
    "df_easyprivacy = df_easyprivacy[[\"url_site\", \"site\"]]\n",
    "df_easyprivacy = df_easyprivacy.drop_duplicates()\n",
    "display(df_easyprivacy.groupby(\"url_site\").count().sort_values(\"site\").tail(10))"
   ]
  },
  {
   "cell_type": "code",
   "execution_count": 89,
   "id": "056cd544-edb3-47db-8c9f-b154273e95f5",
   "metadata": {},
   "outputs": [
    {
     "data": {
      "text/html": [
       "<div>\n",
       "<style scoped>\n",
       "    .dataframe tbody tr th:only-of-type {\n",
       "        vertical-align: middle;\n",
       "    }\n",
       "\n",
       "    .dataframe tbody tr th {\n",
       "        vertical-align: top;\n",
       "    }\n",
       "\n",
       "    .dataframe thead th {\n",
       "        text-align: right;\n",
       "    }\n",
       "</style>\n",
       "<table border=\"1\" class=\"dataframe\">\n",
       "  <thead>\n",
       "    <tr style=\"text-align: right;\">\n",
       "      <th>source</th>\n",
       "      <th>HAR</th>\n",
       "      <th>PG</th>\n",
       "      <th>diff</th>\n",
       "    </tr>\n",
       "    <tr>\n",
       "      <th>origin</th>\n",
       "      <th></th>\n",
       "      <th></th>\n",
       "      <th></th>\n",
       "    </tr>\n",
       "  </thead>\n",
       "  <tbody>\n",
       "    <tr>\n",
       "      <th>http_localtest.me:8000</th>\n",
       "      <td>5</td>\n",
       "      <td>5</td>\n",
       "      <td>0</td>\n",
       "    </tr>\n",
       "  </tbody>\n",
       "</table>\n",
       "</div>"
      ],
      "text/plain": [
       "source                  HAR  PG  diff\n",
       "origin                               \n",
       "http_localtest.me:8000    5   5     0"
      ]
     },
     "metadata": {},
     "output_type": "display_data"
    },
    {
     "name": "stdout",
     "output_type": "stream",
     "text": [
      "====================\n"
     ]
    },
    {
     "data": {
      "text/html": [
       "<div>\n",
       "<style scoped>\n",
       "    .dataframe tbody tr th:only-of-type {\n",
       "        vertical-align: middle;\n",
       "    }\n",
       "\n",
       "    .dataframe tbody tr th {\n",
       "        vertical-align: top;\n",
       "    }\n",
       "\n",
       "    .dataframe thead th {\n",
       "        text-align: right;\n",
       "    }\n",
       "</style>\n",
       "<table border=\"1\" class=\"dataframe\">\n",
       "  <thead>\n",
       "    <tr style=\"text-align: right;\">\n",
       "      <th>source</th>\n",
       "      <th>HAR</th>\n",
       "      <th>PG</th>\n",
       "      <th>diff</th>\n",
       "    </tr>\n",
       "    <tr>\n",
       "      <th>origin</th>\n",
       "      <th></th>\n",
       "      <th></th>\n",
       "      <th></th>\n",
       "    </tr>\n",
       "  </thead>\n",
       "  <tbody>\n",
       "  </tbody>\n",
       "</table>\n",
       "</div>"
      ],
      "text/plain": [
       "Empty DataFrame\n",
       "Columns: [HAR, PG, diff]\n",
       "Index: []"
      ]
     },
     "metadata": {},
     "output_type": "display_data"
    },
    {
     "name": "stdout",
     "output_type": "stream",
     "text": [
      "====================\n"
     ]
    },
    {
     "data": {
      "text/html": [
       "<div>\n",
       "<style scoped>\n",
       "    .dataframe tbody tr th:only-of-type {\n",
       "        vertical-align: middle;\n",
       "    }\n",
       "\n",
       "    .dataframe tbody tr th {\n",
       "        vertical-align: top;\n",
       "    }\n",
       "\n",
       "    .dataframe thead th {\n",
       "        text-align: right;\n",
       "    }\n",
       "</style>\n",
       "<table border=\"1\" class=\"dataframe\">\n",
       "  <thead>\n",
       "    <tr style=\"text-align: right;\">\n",
       "      <th>source</th>\n",
       "      <th>HAR</th>\n",
       "      <th>PG</th>\n",
       "      <th>diff</th>\n",
       "    </tr>\n",
       "    <tr>\n",
       "      <th>origin</th>\n",
       "      <th></th>\n",
       "      <th></th>\n",
       "      <th></th>\n",
       "    </tr>\n",
       "  </thead>\n",
       "  <tbody>\n",
       "    <tr>\n",
       "      <th>http_localtest.me:8000</th>\n",
       "      <td>5</td>\n",
       "      <td>5</td>\n",
       "      <td>0</td>\n",
       "    </tr>\n",
       "  </tbody>\n",
       "</table>\n",
       "</div>"
      ],
      "text/plain": [
       "source                  HAR  PG  diff\n",
       "origin                               \n",
       "http_localtest.me:8000    5   5     0"
      ]
     },
     "metadata": {},
     "output_type": "display_data"
    },
    {
     "name": "stdout",
     "output_type": "stream",
     "text": [
      "0.0\n",
      "nan\n"
     ]
    }
   ],
   "source": [
    "# Orgigins: Different request numbers\n",
    "df_origins = df[~df[\"additional_info\"].isin([\"har_redirects\", \"har_redirects_iframe\", \"har_prefetch\", \"har_csp_report\", \"har_websocket\", \"har_preflight\"])]\n",
    "df_origins = df_origins.groupby(['origin', 'source'])\n",
    "df_origins = df_origins.size().unstack(fill_value=0)\n",
    "df_origins[\"diff\"] = df_origins[\"HAR\"] - df_origins[\"PG\"]\n",
    "df_origins = df_origins.sort_values(by=[\"diff\"])\n",
    "display(df_origins)\n",
    "print(\"====================\")\n",
    "display(df_origins[df_origins[\"HAR\"] != df_origins[\"PG\"]])\n",
    "print(\"====================\")\n",
    "display(df_origins[df_origins[\"HAR\"] == df_origins[\"PG\"]])\n",
    "\n",
    "print(df_origins[\"diff\"].mean())\n",
    "print(df_origins[df_origins[\"HAR\"] != df_origins[\"PG\"]][\"diff\"].mean())"
   ]
  },
  {
   "cell_type": "code",
   "execution_count": 90,
   "id": "5b42525d-2197-4f48-b221-2b478a7bb2ba",
   "metadata": {},
   "outputs": [
    {
     "name": "stdout",
     "output_type": "stream",
     "text": [
      "0 1\n",
      "0 1\n"
     ]
    }
   ],
   "source": [
    "# Orgigins: Different unique request urls\n",
    "df_origins = df[~df[\"additional_info\"].isin([\"har_redirects\", \"har_redirects_iframe\", \"har_prefetch\", \"har_csp_report\", \"har_websocket\", \"har_preflight\"])]\n",
    "df_origins = df_origins.groupby(['origin', 'source'])\n",
    "df_origins = df_origins.agg({'url': lambda x: set(x)})\n",
    "df_origins = df_origins.reset_index()\n",
    "\n",
    "diffs = list()\n",
    "diffs_https = list()\n",
    "for orig in list(set(df_origins[\"origin\"])):\n",
    "    try:\n",
    "        har_urls = set(df_origins[(df_origins[\"origin\"]==orig) & (df_origins[\"source\"]==\"HAR\")][\"url\"].values[0])\n",
    "        har_urls_https = {u.replace(\"http://\", \"https://\") for u in har_urls}\n",
    "        pg_urls = set(df_origins[(df_origins[\"origin\"]==orig) & (df_origins[\"source\"]==\"PG\")][\"url\"].values[0])\n",
    "        if len(har_urls) != len(pg_urls):\n",
    "            diffs.append(orig)\n",
    "        if len(har_urls_https) != len(pg_urls):\n",
    "            diffs_https.append(orig)\n",
    "    except Exception as e:\n",
    "        print(orig, e)\n",
    "\n",
    "    # df_origins[df_origins[\"HAR\"]][\"url\"]\n",
    "    # df_origins[\"PG\"][\"url\"]\n",
    "    # break\n",
    "print(len(set(diffs)), len(set(df_origins[\"origin\"])))\n",
    "print(len(set(diffs_https)), len(set(df_origins[\"origin\"])))"
   ]
  },
  {
   "cell_type": "code",
   "execution_count": 91,
   "id": "7625629a-c17d-421b-86e9-ffb9c08fa69e",
   "metadata": {},
   "outputs": [],
   "source": [
    "# Orgigins: Different unique request urls\n",
    "df_origins = df[~df[\"additional_info\"].isin([\"har_redirects\", \"har_redirects_iframe\", \"har_prefetch\", \"har_csp_report\", \"har_websocket\", \"har_preflight\"])]\n",
    "df_origins = df_origins.groupby(['origin', 'source'])\n",
    "df_origins = df_origins.agg({'url': lambda x: set(x)})\n",
    "df_origins = df_origins.reset_index()\n",
    "\n",
    "for orig in diffs_https[:20]:\n",
    "    try:\n",
    "        har_urls = set(df_origins[(df_origins[\"origin\"]==orig) & (df_origins[\"source\"]==\"HAR\")][\"url\"].values[0])\n",
    "        har_urls_https = {u.replace(\"http://\", \"https://\") for u in har_urls}\n",
    "        pg_urls = set(df_origins[(df_origins[\"origin\"]==orig) & (df_origins[\"source\"]==\"PG\")][\"url\"].values[0])\n",
    "\n",
    "        print(orig)\n",
    "        print(\"Har more:\", har_urls_https - pg_urls)\n",
    "        print(\"PG more:\", pg_urls - har_urls_https)\n",
    "        print(\"====\")\n",
    "        \n",
    "    except Exception as e:\n",
    "        print(orig, e)\n"
   ]
  },
  {
   "cell_type": "code",
   "execution_count": 92,
   "id": "8ffe898c-c5d0-4944-a3e0-db0702a63617",
   "metadata": {},
   "outputs": [
    {
     "data": {
      "text/html": [
       "<div>\n",
       "<style scoped>\n",
       "    .dataframe tbody tr th:only-of-type {\n",
       "        vertical-align: middle;\n",
       "    }\n",
       "\n",
       "    .dataframe tbody tr th {\n",
       "        vertical-align: top;\n",
       "    }\n",
       "\n",
       "    .dataframe thead th {\n",
       "        text-align: right;\n",
       "    }\n",
       "</style>\n",
       "<table border=\"1\" class=\"dataframe\">\n",
       "  <thead>\n",
       "    <tr style=\"text-align: right;\">\n",
       "      <th></th>\n",
       "      <th>url</th>\n",
       "      <th>source</th>\n",
       "      <th>additional_info</th>\n",
       "      <th>url_site</th>\n",
       "      <th>origin</th>\n",
       "      <th>pg_origin</th>\n",
       "      <th>site</th>\n",
       "      <th>easylist</th>\n",
       "      <th>easyprivacy</th>\n",
       "      <th>third_party</th>\n",
       "    </tr>\n",
       "  </thead>\n",
       "  <tbody>\n",
       "  </tbody>\n",
       "</table>\n",
       "</div>"
      ],
      "text/plain": [
       "Empty DataFrame\n",
       "Columns: [url, source, additional_info, url_site, origin, pg_origin, site, easylist, easyprivacy, third_party]\n",
       "Index: []"
      ]
     },
     "metadata": {},
     "output_type": "display_data"
    },
    {
     "data": {
      "text/html": [
       "<div>\n",
       "<style scoped>\n",
       "    .dataframe tbody tr th:only-of-type {\n",
       "        vertical-align: middle;\n",
       "    }\n",
       "\n",
       "    .dataframe tbody tr th {\n",
       "        vertical-align: top;\n",
       "    }\n",
       "\n",
       "    .dataframe thead th {\n",
       "        text-align: right;\n",
       "    }\n",
       "</style>\n",
       "<table border=\"1\" class=\"dataframe\">\n",
       "  <thead>\n",
       "    <tr style=\"text-align: right;\">\n",
       "      <th></th>\n",
       "      <th>url</th>\n",
       "      <th>source</th>\n",
       "      <th>additional_info</th>\n",
       "      <th>url_site</th>\n",
       "      <th>origin</th>\n",
       "      <th>pg_origin</th>\n",
       "      <th>site</th>\n",
       "      <th>easylist</th>\n",
       "      <th>easyprivacy</th>\n",
       "      <th>third_party</th>\n",
       "    </tr>\n",
       "  </thead>\n",
       "  <tbody>\n",
       "  </tbody>\n",
       "</table>\n",
       "</div>"
      ],
      "text/plain": [
       "Empty DataFrame\n",
       "Columns: [url, source, additional_info, url_site, origin, pg_origin, site, easylist, easyprivacy, third_party]\n",
       "Index: []"
      ]
     },
     "metadata": {},
     "output_type": "display_data"
    }
   ],
   "source": [
    "with pd.option_context('display.max_rows', None, 'display.max_columns', None):\n",
    "    display(df[(df[\"origin\"] == \"https_www.privateproperty.co.za\") & (df[\"url\"].str.startswith(\"https://bat.bing.com\")) & (df[\"source\"] == \"PG\")])\n",
    "    display(df[(df[\"origin\"] == \"https_www.privateproperty.co.za\") & (df[\"url\"].str.startswith(\"https://bat.bing.com\")) & (df[\"source\"] == \"HAR\")])"
   ]
  },
  {
   "cell_type": "code",
   "execution_count": 93,
   "id": "dfb123cf-e0af-494e-8a8d-650fe84e4333",
   "metadata": {},
   "outputs": [
    {
     "data": {
      "text/html": [
       "<div>\n",
       "<style scoped>\n",
       "    .dataframe tbody tr th:only-of-type {\n",
       "        vertical-align: middle;\n",
       "    }\n",
       "\n",
       "    .dataframe tbody tr th {\n",
       "        vertical-align: top;\n",
       "    }\n",
       "\n",
       "    .dataframe thead th {\n",
       "        text-align: right;\n",
       "    }\n",
       "</style>\n",
       "<table border=\"1\" class=\"dataframe\">\n",
       "  <thead>\n",
       "    <tr style=\"text-align: right;\">\n",
       "      <th></th>\n",
       "      <th>url</th>\n",
       "      <th>source</th>\n",
       "      <th>additional_info</th>\n",
       "      <th>url_site</th>\n",
       "      <th>origin</th>\n",
       "      <th>pg_origin</th>\n",
       "      <th>site</th>\n",
       "      <th>easylist</th>\n",
       "      <th>easyprivacy</th>\n",
       "      <th>third_party</th>\n",
       "    </tr>\n",
       "  </thead>\n",
       "  <tbody>\n",
       "  </tbody>\n",
       "</table>\n",
       "</div>"
      ],
      "text/plain": [
       "Empty DataFrame\n",
       "Columns: [url, source, additional_info, url_site, origin, pg_origin, site, easylist, easyprivacy, third_party]\n",
       "Index: []"
      ]
     },
     "metadata": {},
     "output_type": "display_data"
    },
    {
     "data": {
      "text/html": [
       "<div>\n",
       "<style scoped>\n",
       "    .dataframe tbody tr th:only-of-type {\n",
       "        vertical-align: middle;\n",
       "    }\n",
       "\n",
       "    .dataframe tbody tr th {\n",
       "        vertical-align: top;\n",
       "    }\n",
       "\n",
       "    .dataframe thead th {\n",
       "        text-align: right;\n",
       "    }\n",
       "</style>\n",
       "<table border=\"1\" class=\"dataframe\">\n",
       "  <thead>\n",
       "    <tr style=\"text-align: right;\">\n",
       "      <th></th>\n",
       "      <th>url</th>\n",
       "      <th>source</th>\n",
       "      <th>additional_info</th>\n",
       "      <th>url_site</th>\n",
       "      <th>origin</th>\n",
       "      <th>pg_origin</th>\n",
       "      <th>site</th>\n",
       "      <th>easylist</th>\n",
       "      <th>easyprivacy</th>\n",
       "      <th>third_party</th>\n",
       "    </tr>\n",
       "  </thead>\n",
       "  <tbody>\n",
       "  </tbody>\n",
       "</table>\n",
       "</div>"
      ],
      "text/plain": [
       "Empty DataFrame\n",
       "Columns: [url, source, additional_info, url_site, origin, pg_origin, site, easylist, easyprivacy, third_party]\n",
       "Index: []"
      ]
     },
     "metadata": {},
     "output_type": "display_data"
    }
   ],
   "source": [
    "with pd.option_context('display.max_rows', None, 'display.max_columns', None):\n",
    "    display(df[(df[\"origin\"] == \"https_www.privateproperty.co.za\") & (df[\"url\"].str.startswith(\"https://bat.bing.com\")) & (df[\"source\"] == \"PG\")])\n",
    "    display(df[(df[\"origin\"] == \"https_www.privateproperty.co.za\") & (df[\"url\"].str.startswith(\"https://bat.bing.com\")) & (df[\"source\"] == \"HAR\")])"
   ]
  },
  {
   "cell_type": "code",
   "execution_count": 94,
   "id": "90c6a390-1865-45cd-a516-5b81d1da7874",
   "metadata": {},
   "outputs": [
    {
     "data": {
      "text/plain": [
       "[]"
      ]
     },
     "execution_count": 94,
     "metadata": {},
     "output_type": "execute_result"
    }
   ],
   "source": [
    "diffs_https[:20]"
   ]
  },
  {
   "cell_type": "markdown",
   "id": "15e7df68-09df-4858-9c5a-9182570202c6",
   "metadata": {},
   "source": [
    "# Third Party"
   ]
  },
  {
   "cell_type": "code",
   "execution_count": 95,
   "id": "4ad6090b-2cab-43b7-b781-e19dd0eac109",
   "metadata": {},
   "outputs": [
    {
     "data": {
      "text/html": [
       "<div>\n",
       "<style scoped>\n",
       "    .dataframe tbody tr th:only-of-type {\n",
       "        vertical-align: middle;\n",
       "    }\n",
       "\n",
       "    .dataframe tbody tr th {\n",
       "        vertical-align: top;\n",
       "    }\n",
       "\n",
       "    .dataframe thead th {\n",
       "        text-align: right;\n",
       "    }\n",
       "</style>\n",
       "<table border=\"1\" class=\"dataframe\">\n",
       "  <thead>\n",
       "    <tr style=\"text-align: right;\">\n",
       "      <th></th>\n",
       "      <th>url</th>\n",
       "      <th>source</th>\n",
       "      <th>additional_info</th>\n",
       "      <th>url_site</th>\n",
       "      <th>origin</th>\n",
       "      <th>pg_origin</th>\n",
       "      <th>site</th>\n",
       "      <th>easylist</th>\n",
       "      <th>easyprivacy</th>\n",
       "      <th>third_party</th>\n",
       "    </tr>\n",
       "  </thead>\n",
       "  <tbody>\n",
       "  </tbody>\n",
       "</table>\n",
       "</div>"
      ],
      "text/plain": [
       "Empty DataFrame\n",
       "Columns: [url, source, additional_info, url_site, origin, pg_origin, site, easylist, easyprivacy, third_party]\n",
       "Index: []"
      ]
     },
     "metadata": {},
     "output_type": "display_data"
    },
    {
     "data": {
      "text/plain": [
       "Series([], Name: count, dtype: int64)"
      ]
     },
     "metadata": {},
     "output_type": "display_data"
    }
   ],
   "source": [
    "with pd.option_context('display.max_rows', None, 'display.max_columns', None):\n",
    "    l = list({'143.110.211.235.', 'josex.mobi', 'tamilprint24.art', 'trustedbanana.com', 'truyenhdx.com', 'cdnntx.com', 'pornohype.me', 'colorlib.com', 'shb-sync.com', 'vidiocdn.net', 'scribbr.com', 'linkjj.com', 'dffgames.com', 'earthweb.com', 'idos.cz', 'adflyer.media', 'tamilprint24.store', 'baskino.me', 'oxtubex1.name', 'efbet.com', 'radioonlinehd.net', 'sponser.co.il', 'tamilprint24.shop', '__bridge_loaded__.', 'oxtube.cc', 'ibus.cl', 'direktur0209.com', 'pagibigfund.gov.ph', 'adxfactory.com', 'winbet.bg', 'tumanhwas.com', 'megahdporno.name', 'aniwind.pro', 'ibytedtos.com', 'uwaterloo.ca'})\n",
    "    display(df[(df[\"source\"] == \"HAR\") & (df[\"url_site\"].isin(l))])\n",
    "    display(df[(df[\"source\"] == \"HAR\") & (df[\"url_site\"].isin(l))][\"url_site\"].value_counts())"
   ]
  },
  {
   "cell_type": "code",
   "execution_count": 96,
   "id": "ed43363e-33f4-4a19-8b4b-e0875ee428eb",
   "metadata": {},
   "outputs": [
    {
     "data": {
      "text/html": [
       "<div>\n",
       "<style scoped>\n",
       "    .dataframe tbody tr th:only-of-type {\n",
       "        vertical-align: middle;\n",
       "    }\n",
       "\n",
       "    .dataframe tbody tr th {\n",
       "        vertical-align: top;\n",
       "    }\n",
       "\n",
       "    .dataframe thead th {\n",
       "        text-align: right;\n",
       "    }\n",
       "</style>\n",
       "<table border=\"1\" class=\"dataframe\">\n",
       "  <thead>\n",
       "    <tr style=\"text-align: right;\">\n",
       "      <th></th>\n",
       "      <th>url</th>\n",
       "      <th>source</th>\n",
       "      <th>additional_info</th>\n",
       "      <th>url_site</th>\n",
       "      <th>origin</th>\n",
       "      <th>pg_origin</th>\n",
       "      <th>site</th>\n",
       "      <th>easylist</th>\n",
       "      <th>easyprivacy</th>\n",
       "      <th>third_party</th>\n",
       "    </tr>\n",
       "  </thead>\n",
       "  <tbody>\n",
       "  </tbody>\n",
       "</table>\n",
       "</div>"
      ],
      "text/plain": [
       "Empty DataFrame\n",
       "Columns: [url, source, additional_info, url_site, origin, pg_origin, site, easylist, easyprivacy, third_party]\n",
       "Index: []"
      ]
     },
     "metadata": {},
     "output_type": "display_data"
    },
    {
     "data": {
      "text/plain": [
       "Series([], Name: count, dtype: int64)"
      ]
     },
     "metadata": {},
     "output_type": "display_data"
    }
   ],
   "source": [
    "with pd.option_context('display.max_rows', None, 'display.max_columns', None):\n",
    "    l = list({'da29e6b8-f018-490f-b25f-39a887fc95e7.xyz', 'rhplayer.com', 'volccdn.com', 'terriblecomposureunkind.com', 'shohoz.com', 'xn--s3cx7a.com', 'iqm.com', 'marker.io', 'ck123.io', 'xn--ph1bph0az41x.org', 'xn--12cl7cj4aa9dd5cp5ona1eya.com', 'altema-log.com', 'territorium.com', 'xn--h10b90b998c.site', 'pygear.com', 'godopu.xyz', 'burdadigital.pl', 'kingmakers.tech', 'xn--168-1klyfn3i1b2j7c.com', 'datalaser247.com'})\n",
    "    display(df[(df[\"source\"] == \"PG\") & (df[\"url_site\"].isin(l))])\n",
    "    display(df[(df[\"source\"] == \"PG\") & (df[\"url_site\"].isin(l))][\"url_site\"].value_counts())"
   ]
  },
  {
   "cell_type": "code",
   "execution_count": 97,
   "id": "a1f57fef-072a-489e-af27-48f51707208b",
   "metadata": {},
   "outputs": [
    {
     "data": {
      "text/html": [
       "<div>\n",
       "<style scoped>\n",
       "    .dataframe tbody tr th:only-of-type {\n",
       "        vertical-align: middle;\n",
       "    }\n",
       "\n",
       "    .dataframe tbody tr th {\n",
       "        vertical-align: top;\n",
       "    }\n",
       "\n",
       "    .dataframe thead th {\n",
       "        text-align: right;\n",
       "    }\n",
       "</style>\n",
       "<table border=\"1\" class=\"dataframe\">\n",
       "  <thead>\n",
       "    <tr style=\"text-align: right;\">\n",
       "      <th></th>\n",
       "      <th>url</th>\n",
       "      <th>source</th>\n",
       "      <th>additional_info</th>\n",
       "      <th>url_site</th>\n",
       "      <th>origin</th>\n",
       "      <th>pg_origin</th>\n",
       "      <th>site</th>\n",
       "      <th>easylist</th>\n",
       "      <th>easyprivacy</th>\n",
       "      <th>third_party</th>\n",
       "    </tr>\n",
       "  </thead>\n",
       "  <tbody>\n",
       "  </tbody>\n",
       "</table>\n",
       "</div>"
      ],
      "text/plain": [
       "Empty DataFrame\n",
       "Columns: [url, source, additional_info, url_site, origin, pg_origin, site, easylist, easyprivacy, third_party]\n",
       "Index: []"
      ]
     },
     "metadata": {},
     "output_type": "display_data"
    }
   ],
   "source": [
    "with pd.option_context('display.max_rows', None, 'display.max_columns', None):\n",
    "    display(df[df[\"origin\"] == \"https_www.mackolik.com\"])"
   ]
  },
  {
   "cell_type": "code",
   "execution_count": 98,
   "id": "62d8d315-becb-4f20-b850-6b3588b97006",
   "metadata": {},
   "outputs": [
    {
     "name": "stdout",
     "output_type": "stream",
     "text": [
      "HAR 3rd:  1\n",
      "HAR 3rd >= 2 sites:  0\n",
      "HAR 3rd >= 1% 0 sites:  1\n",
      "PG 3rd:  1\n",
      "PG 3rd >= 2 sites:  0\n",
      "PG 3rd >= 1% 0 sites:  1\n",
      "\n",
      "Missing 3rd parties\n",
      "set()\n",
      "set()\n",
      "\n"
     ]
    },
    {
     "name": "stderr",
     "output_type": "stream",
     "text": [
      "/tmp/ipykernel_4123668/2611986078.py:5: FutureWarning: Series.__getitem__ treating keys as positions is deprecated. In a future version, integer keys will always be treated as labels (consistent with DataFrame behavior). To access a value by position, use `ser.iloc[pos]`\n",
      "  one_percentage = int(df[['origin']].nunique()[0] * 0.01)\n"
     ]
    },
    {
     "data": {
      "text/html": [
       "<div>\n",
       "<style scoped>\n",
       "    .dataframe tbody tr th:only-of-type {\n",
       "        vertical-align: middle;\n",
       "    }\n",
       "\n",
       "    .dataframe tbody tr th {\n",
       "        vertical-align: top;\n",
       "    }\n",
       "\n",
       "    .dataframe thead th {\n",
       "        text-align: right;\n",
       "    }\n",
       "</style>\n",
       "<table border=\"1\" class=\"dataframe\">\n",
       "  <thead>\n",
       "    <tr style=\"text-align: right;\">\n",
       "      <th>source</th>\n",
       "      <th>HAR</th>\n",
       "      <th>PG</th>\n",
       "    </tr>\n",
       "    <tr>\n",
       "      <th>origin</th>\n",
       "      <th></th>\n",
       "      <th></th>\n",
       "    </tr>\n",
       "  </thead>\n",
       "  <tbody>\n",
       "    <tr>\n",
       "      <th>http_localtest.me:8000</th>\n",
       "      <td>1</td>\n",
       "      <td>1</td>\n",
       "    </tr>\n",
       "  </tbody>\n",
       "</table>\n",
       "</div>"
      ],
      "text/plain": [
       "source                  HAR  PG\n",
       "origin                         \n",
       "http_localtest.me:8000    1   1"
      ]
     },
     "metadata": {},
     "output_type": "display_data"
    },
    {
     "data": {
      "text/html": [
       "<div>\n",
       "<style scoped>\n",
       "    .dataframe tbody tr th:only-of-type {\n",
       "        vertical-align: middle;\n",
       "    }\n",
       "\n",
       "    .dataframe tbody tr th {\n",
       "        vertical-align: top;\n",
       "    }\n",
       "\n",
       "    .dataframe thead th {\n",
       "        text-align: right;\n",
       "    }\n",
       "</style>\n",
       "<table border=\"1\" class=\"dataframe\">\n",
       "  <thead>\n",
       "    <tr style=\"text-align: right;\">\n",
       "      <th>source</th>\n",
       "      <th>HAR</th>\n",
       "      <th>PG</th>\n",
       "    </tr>\n",
       "    <tr>\n",
       "      <th>origin</th>\n",
       "      <th></th>\n",
       "      <th></th>\n",
       "    </tr>\n",
       "  </thead>\n",
       "  <tbody>\n",
       "  </tbody>\n",
       "</table>\n",
       "</div>"
      ],
      "text/plain": [
       "Empty DataFrame\n",
       "Columns: [HAR, PG]\n",
       "Index: []"
      ]
     },
     "metadata": {},
     "output_type": "display_data"
    },
    {
     "data": {
      "text/html": [
       "<div>\n",
       "<style scoped>\n",
       "    .dataframe tbody tr th:only-of-type {\n",
       "        vertical-align: middle;\n",
       "    }\n",
       "\n",
       "    .dataframe tbody tr th {\n",
       "        vertical-align: top;\n",
       "    }\n",
       "\n",
       "    .dataframe thead th {\n",
       "        text-align: right;\n",
       "    }\n",
       "</style>\n",
       "<table border=\"1\" class=\"dataframe\">\n",
       "  <thead>\n",
       "    <tr style=\"text-align: right;\">\n",
       "      <th>source</th>\n",
       "      <th>HAR</th>\n",
       "      <th>PG</th>\n",
       "    </tr>\n",
       "    <tr>\n",
       "      <th>origin</th>\n",
       "      <th></th>\n",
       "      <th></th>\n",
       "    </tr>\n",
       "  </thead>\n",
       "  <tbody>\n",
       "  </tbody>\n",
       "</table>\n",
       "</div>"
      ],
      "text/plain": [
       "Empty DataFrame\n",
       "Columns: [HAR, PG]\n",
       "Index: []"
      ]
     },
     "metadata": {},
     "output_type": "display_data"
    },
    {
     "name": "stdout",
     "output_type": "stream",
     "text": [
      "source\n",
      "HAR    1\n",
      "PG     1\n",
      "dtype: int64\n",
      "source\n",
      "HAR    1\n",
      "PG     1\n",
      "dtype: int64\n"
     ]
    }
   ],
   "source": [
    "# How many third parties do we see?\n",
    "df_third_party = df[(df[\"third_party\"] == True) & (~df[\"additional_info\"].isin([\"har_redirects\", \"har_redirects_iframe\", \"har_prefetch\", \"har_csp_report\", \"har_websocket\", \"har_preflight\"]))] # , \"har_prefetch\", \"har_csp_report\", \"har_websocket\", \"har_preflight\"\n",
    "df_third_party = df_third_party[~df_third_party[\"url_site\"].isin({'http.', '{domain}.', 'localhost.', 'it(none).'})]\n",
    "\n",
    "one_percentage = int(df[['origin']].nunique()[0] * 0.01)\n",
    "print(\"HAR 3rd: \", len(set(df_third_party[df_third_party[\"source\"] == \"HAR\"][\"url_site\"])))\n",
    "df_har_third_party_count = df_third_party[df_third_party[\"source\"] == \"HAR\"][\"url_site\"].value_counts()\n",
    "print(\"HAR 3rd >= 2 sites: \", len(df_har_third_party_count[df_har_third_party_count > 1]))\n",
    "print(f\"HAR 3rd >= 1% {one_percentage} sites: \", len(df_har_third_party_count[df_har_third_party_count > one_percentage]))\n",
    "\n",
    "print(\"PG 3rd: \", len(set(df_third_party[df_third_party[\"source\"] == \"PG\"][\"url_site\"])))\n",
    "df_pg_third_party_count = df_third_party[df_third_party[\"source\"] == \"PG\"][\"url_site\"].value_counts()\n",
    "print(\"PG 3rd >= 2 sites: \", len(df_pg_third_party_count[df_pg_third_party_count > 1]))\n",
    "print(f\"PG 3rd >= 1% {one_percentage} sites: \", len(df_pg_third_party_count[df_pg_third_party_count > one_percentage]))\n",
    "\n",
    "print()\n",
    "print(\"Missing 3rd parties\")\n",
    "print(set(df_third_party[df_third_party[\"source\"] == \"HAR\"][\"url_site\"]) - set(df_third_party[df_third_party[\"source\"] == \"PG\"][\"url_site\"]))\n",
    "print(set(df_third_party[df_third_party[\"source\"] == \"PG\"][\"url_site\"]) - set(df_third_party[df_third_party[\"source\"] == \"HAR\"][\"url_site\"]))\n",
    "print()\n",
    "\n",
    "# How many sites have at least one third party?\n",
    "df_third_party = df_third_party.groupby(['origin', 'source'])\n",
    "df_third_party = df_third_party.size().unstack(fill_value=0)\n",
    "\n",
    "display(df_third_party)\n",
    "\n",
    "if 'PG' in df_third_party:\n",
    "    display(df_third_party[df_third_party[\"PG\"] == 0])\n",
    "if 'HAR' in df_third_party:\n",
    "    display(df_third_party[df_third_party[\"HAR\"] == 0])\n",
    "\n",
    "if 'HAR' in df_third_party:\n",
    "    print(df_third_party[df_third_party[\"HAR\"] > 0].count())\n",
    "if 'PG' in df_third_party:\n",
    "    print(df_third_party[df_third_party[\"PG\"] > 0].count())"
   ]
  },
  {
   "cell_type": "code",
   "execution_count": 99,
   "id": "03f7bfe3-48c2-49c7-9b1f-59a14d4366ed",
   "metadata": {},
   "outputs": [
    {
     "name": "stdout",
     "output_type": "stream",
     "text": [
      "===== PG =====\n",
      "===== HAR =====\n"
     ]
    },
    {
     "data": {
      "image/png": "[encoded data removed]",
      "text/plain": [
       "<Figure size 1000x500 with 1 Axes>"
      ]
     },
     "metadata": {},
     "output_type": "display_data"
    }
   ],
   "source": [
    "# Which are the top third parties\n",
    "def print_third_party_and_trackers(source, ax=None):\n",
    "    df_third_party = df[(df[\"third_party\"] == True) & (~df[\"additional_info\"].isin([\"har_redirects\"]))]\n",
    "    df_trackers = df[(df[\"easyprivacy\"] == True) | (df[\"easylist\"] == True)]\n",
    "    \n",
    "    df_third_party = df_third_party[df_third_party[\"source\"] == source]\n",
    "    df_third_party = df_third_party[[\"url_site\", \"origin\"]]\n",
    "    df_third_party = df_third_party.drop_duplicates()\n",
    "    df_third_party = df_third_party.groupby(\"url_site\").count().reset_index()\n",
    "    \n",
    "    df_trackers = df_trackers[df_trackers[\"source\"] == source]\n",
    "    df_trackers = df_trackers[[\"url_site\", \"origin\"]]\n",
    "    df_trackers = df_trackers.drop_duplicates()\n",
    "    df_trackers = df_trackers.groupby(\"url_site\").count().reset_index()\n",
    "    \n",
    "    \n",
    "    top_third_and_track = df_third_party.merge(df_trackers, on=\"url_site\", how=\"left\", suffixes=('_third_party', '_tracker'))\n",
    "    top_third_and_track[\"origin_tracker\"] = top_third_and_track[\"origin_tracker\"].fillna(0)\n",
    "\n",
    "    print(\"=====\",source,\"=====\")\n",
    "    top_10 = top_third_and_track.sort_values(\"origin_third_party\", ascending=False).head(20)\n",
    "    top_10 = top_10.set_index('url_site')\n",
    "    top_10[\"Tracking Context\"] = top_10[\"origin_tracker\"]\n",
    "    top_10[\"Non-Tracking Context\"] = top_10[\"origin_third_party\"] - top_10[\"origin_tracker\"]\n",
    "    # display(top_10)\n",
    "\n",
    "    if ax == None:\n",
    "        ax = top_10[[\"Tracking Context\",\"Non-Tracking Context\"]].plot.bar(stacked=True, figsize=(10,5), position=-0.1, width=0.3)\n",
    "    else:\n",
    "        top_10[[\"Tracking Context\",\"Non-Tracking Context\"]].plot.bar(stacked=True, figsize=(10,5), ax=ax, position=1.1, width=0.3, hatch=['...'])\n",
    "    return ax\n",
    "    \n",
    "# latexify()\n",
    "plt.rcParams.update({'font.size': 18, 'font.family': 'serif', 'grid.linestyle': 'solid', 'legend.fancybox': True})\n",
    "ax = print_third_party_and_trackers(\"PG\")\n",
    "ax = print_third_party_and_trackers(\"HAR\", ax=ax)\n",
    "\n",
    "width = 0.25\n",
    "x = np.arange(len(ax.get_xticklabels()))\n",
    "# ax.set_xticks(x + width, ax.get_xticklabels())\n",
    "ax.set_xticklabels(ax.get_xticklabels(), rotation=35, ha='right', rotation_mode='anchor')\n",
    "ax.set_ylabel(\"First Parties\")\n",
    "ax.set_xlabel(\"\")\n",
    "\n",
    "# old_legend = ax.get_legend()\n",
    "h, l = ax.get_legend_handles_labels()\n",
    "\n",
    "har_label = mpatches.Patch(facecolor='white', edgecolor='black', hatch='',label='HAR')\n",
    "pg_label = mpatches.Patch(facecolor='white', edgecolor='black', hatch='...',label='.web')\n",
    "ax.legend(handles = h[:2] + [pg_label, har_label])\n",
    "plt.savefig(\"top_third_party.pdf\", format=\"pdf\", bbox_inches=\"tight\")\n",
    "\n"
   ]
  },
  {
   "cell_type": "markdown",
   "id": "c7fff8b5-448c-4571-9350-74e62c6a5d1f",
   "metadata": {},
   "source": [
    "# Trackers"
   ]
  },
  {
   "cell_type": "code",
   "execution_count": 101,
   "id": "4d24464f-c7b1-4e46-89d0-8086547606a7",
   "metadata": {},
   "outputs": [
    {
     "data": {
      "text/html": [
       "<div>\n",
       "<style scoped>\n",
       "    .dataframe tbody tr th:only-of-type {\n",
       "        vertical-align: middle;\n",
       "    }\n",
       "\n",
       "    .dataframe tbody tr th {\n",
       "        vertical-align: top;\n",
       "    }\n",
       "\n",
       "    .dataframe thead th {\n",
       "        text-align: right;\n",
       "    }\n",
       "</style>\n",
       "<table border=\"1\" class=\"dataframe\">\n",
       "  <thead>\n",
       "    <tr style=\"text-align: right;\">\n",
       "      <th>source</th>\n",
       "    </tr>\n",
       "    <tr>\n",
       "      <th>origin</th>\n",
       "    </tr>\n",
       "  </thead>\n",
       "  <tbody>\n",
       "  </tbody>\n",
       "</table>\n",
       "</div>"
      ],
      "text/plain": [
       "Empty DataFrame\n",
       "Columns: []\n",
       "Index: []"
      ]
     },
     "metadata": {},
     "output_type": "display_data"
    }
   ],
   "source": [
    "df_easylist = df[df[\"easylist\"] == True]\n",
    "df_easylist = df_easylist.groupby(['origin', 'source'])\n",
    "df_easylist = df_easylist.size().unstack(fill_value=0)\n",
    "display(df_easylist)\n",
    "if \"PG\" in df_easylist:\n",
    "    display(df_easylist[df_easylist[\"PG\"] == 0])\n",
    "\n",
    "if \"HAR\" in df_easylist:\n",
    "    display(df_easylist[df_easylist[\"HAR\"] == 0])\n",
    "\n",
    "if \"HAR\" in df_easylist:\n",
    "    print(df_easylist[df_easylist[\"HAR\"] > 0].count())\n",
    "if \"PG\" in df_easylist:\n",
    "    print(df_easylist[df_easylist[\"PG\"] > 0].count())"
   ]
  },
  {
   "cell_type": "code",
   "execution_count": 102,
   "id": "244da29b-f05f-4e73-9fa0-b9cbba6aae3d",
   "metadata": {},
   "outputs": [
    {
     "data": {
      "text/html": [
       "<div>\n",
       "<style scoped>\n",
       "    .dataframe tbody tr th:only-of-type {\n",
       "        vertical-align: middle;\n",
       "    }\n",
       "\n",
       "    .dataframe tbody tr th {\n",
       "        vertical-align: top;\n",
       "    }\n",
       "\n",
       "    .dataframe thead th {\n",
       "        text-align: right;\n",
       "    }\n",
       "</style>\n",
       "<table border=\"1\" class=\"dataframe\">\n",
       "  <thead>\n",
       "    <tr style=\"text-align: right;\">\n",
       "      <th>source</th>\n",
       "      <th>HAR</th>\n",
       "      <th>PG</th>\n",
       "    </tr>\n",
       "    <tr>\n",
       "      <th>origin</th>\n",
       "      <th></th>\n",
       "      <th></th>\n",
       "    </tr>\n",
       "  </thead>\n",
       "  <tbody>\n",
       "    <tr>\n",
       "      <th>http_localtest.me:8000</th>\n",
       "      <td>1</td>\n",
       "      <td>1</td>\n",
       "    </tr>\n",
       "  </tbody>\n",
       "</table>\n",
       "</div>"
      ],
      "text/plain": [
       "source                  HAR  PG\n",
       "origin                         \n",
       "http_localtest.me:8000    1   1"
      ]
     },
     "metadata": {},
     "output_type": "display_data"
    },
    {
     "data": {
      "text/html": [
       "<div>\n",
       "<style scoped>\n",
       "    .dataframe tbody tr th:only-of-type {\n",
       "        vertical-align: middle;\n",
       "    }\n",
       "\n",
       "    .dataframe tbody tr th {\n",
       "        vertical-align: top;\n",
       "    }\n",
       "\n",
       "    .dataframe thead th {\n",
       "        text-align: right;\n",
       "    }\n",
       "</style>\n",
       "<table border=\"1\" class=\"dataframe\">\n",
       "  <thead>\n",
       "    <tr style=\"text-align: right;\">\n",
       "      <th>source</th>\n",
       "      <th>HAR</th>\n",
       "      <th>PG</th>\n",
       "    </tr>\n",
       "    <tr>\n",
       "      <th>origin</th>\n",
       "      <th></th>\n",
       "      <th></th>\n",
       "    </tr>\n",
       "  </thead>\n",
       "  <tbody>\n",
       "  </tbody>\n",
       "</table>\n",
       "</div>"
      ],
      "text/plain": [
       "Empty DataFrame\n",
       "Columns: [HAR, PG]\n",
       "Index: []"
      ]
     },
     "metadata": {},
     "output_type": "display_data"
    },
    {
     "data": {
      "text/html": [
       "<div>\n",
       "<style scoped>\n",
       "    .dataframe tbody tr th:only-of-type {\n",
       "        vertical-align: middle;\n",
       "    }\n",
       "\n",
       "    .dataframe tbody tr th {\n",
       "        vertical-align: top;\n",
       "    }\n",
       "\n",
       "    .dataframe thead th {\n",
       "        text-align: right;\n",
       "    }\n",
       "</style>\n",
       "<table border=\"1\" class=\"dataframe\">\n",
       "  <thead>\n",
       "    <tr style=\"text-align: right;\">\n",
       "      <th>source</th>\n",
       "      <th>HAR</th>\n",
       "      <th>PG</th>\n",
       "    </tr>\n",
       "    <tr>\n",
       "      <th>origin</th>\n",
       "      <th></th>\n",
       "      <th></th>\n",
       "    </tr>\n",
       "  </thead>\n",
       "  <tbody>\n",
       "  </tbody>\n",
       "</table>\n",
       "</div>"
      ],
      "text/plain": [
       "Empty DataFrame\n",
       "Columns: [HAR, PG]\n",
       "Index: []"
      ]
     },
     "metadata": {},
     "output_type": "display_data"
    },
    {
     "name": "stdout",
     "output_type": "stream",
     "text": [
      "source\n",
      "HAR    1\n",
      "PG     1\n",
      "dtype: int64\n",
      "source\n",
      "HAR    1\n",
      "PG     1\n",
      "dtype: int64\n"
     ]
    }
   ],
   "source": [
    "df_easyprivacy = df[df[\"easyprivacy\"] == True]\n",
    "df_easyprivacy = df_easyprivacy.groupby(['origin', 'source'])\n",
    "df_easyprivacy = df_easyprivacy.size().unstack(fill_value=0)\n",
    "display(df_easyprivacy)\n",
    "if \"PG\" in df_easyprivacy:\n",
    "    display(df_easyprivacy[df_easyprivacy[\"PG\"] == 0])\n",
    "\n",
    "if \"HAR\" in df_easyprivacy:\n",
    "    display(df_easyprivacy[df_easyprivacy[\"HAR\"] == 0])\n",
    "\n",
    "if \"HAR\" in df_easyprivacy:\n",
    "    print(df_easyprivacy[df_easyprivacy[\"HAR\"] > 0].count())\n",
    "if \"PG\" in df_easyprivacy:\n",
    "    print(df_easyprivacy[df_easyprivacy[\"PG\"] > 0].count())"
   ]
  },
  {
   "cell_type": "code",
   "execution_count": 103,
   "id": "9017397a-db90-440d-957d-2f0e06764edc",
   "metadata": {},
   "outputs": [
    {
     "name": "stdout",
     "output_type": "stream",
     "text": [
      "HAR trackers:  1\n",
      "PG trackers:  1\n",
      "set()\n"
     ]
    },
    {
     "data": {
      "text/html": [
       "<div>\n",
       "<style scoped>\n",
       "    .dataframe tbody tr th:only-of-type {\n",
       "        vertical-align: middle;\n",
       "    }\n",
       "\n",
       "    .dataframe tbody tr th {\n",
       "        vertical-align: top;\n",
       "    }\n",
       "\n",
       "    .dataframe thead th {\n",
       "        text-align: right;\n",
       "    }\n",
       "</style>\n",
       "<table border=\"1\" class=\"dataframe\">\n",
       "  <thead>\n",
       "    <tr style=\"text-align: right;\">\n",
       "      <th>source</th>\n",
       "      <th>HAR</th>\n",
       "      <th>PG</th>\n",
       "    </tr>\n",
       "    <tr>\n",
       "      <th>origin</th>\n",
       "      <th></th>\n",
       "      <th></th>\n",
       "    </tr>\n",
       "  </thead>\n",
       "  <tbody>\n",
       "    <tr>\n",
       "      <th>http_localtest.me:8000</th>\n",
       "      <td>1</td>\n",
       "      <td>1</td>\n",
       "    </tr>\n",
       "  </tbody>\n",
       "</table>\n",
       "</div>"
      ],
      "text/plain": [
       "source                  HAR  PG\n",
       "origin                         \n",
       "http_localtest.me:8000    1   1"
      ]
     },
     "metadata": {},
     "output_type": "display_data"
    },
    {
     "data": {
      "text/html": [
       "<div>\n",
       "<style scoped>\n",
       "    .dataframe tbody tr th:only-of-type {\n",
       "        vertical-align: middle;\n",
       "    }\n",
       "\n",
       "    .dataframe tbody tr th {\n",
       "        vertical-align: top;\n",
       "    }\n",
       "\n",
       "    .dataframe thead th {\n",
       "        text-align: right;\n",
       "    }\n",
       "</style>\n",
       "<table border=\"1\" class=\"dataframe\">\n",
       "  <thead>\n",
       "    <tr style=\"text-align: right;\">\n",
       "      <th>source</th>\n",
       "      <th>HAR</th>\n",
       "      <th>PG</th>\n",
       "    </tr>\n",
       "    <tr>\n",
       "      <th>origin</th>\n",
       "      <th></th>\n",
       "      <th></th>\n",
       "    </tr>\n",
       "  </thead>\n",
       "  <tbody>\n",
       "  </tbody>\n",
       "</table>\n",
       "</div>"
      ],
      "text/plain": [
       "Empty DataFrame\n",
       "Columns: [HAR, PG]\n",
       "Index: []"
      ]
     },
     "metadata": {},
     "output_type": "display_data"
    },
    {
     "data": {
      "text/html": [
       "<div>\n",
       "<style scoped>\n",
       "    .dataframe tbody tr th:only-of-type {\n",
       "        vertical-align: middle;\n",
       "    }\n",
       "\n",
       "    .dataframe tbody tr th {\n",
       "        vertical-align: top;\n",
       "    }\n",
       "\n",
       "    .dataframe thead th {\n",
       "        text-align: right;\n",
       "    }\n",
       "</style>\n",
       "<table border=\"1\" class=\"dataframe\">\n",
       "  <thead>\n",
       "    <tr style=\"text-align: right;\">\n",
       "      <th>source</th>\n",
       "      <th>HAR</th>\n",
       "      <th>PG</th>\n",
       "    </tr>\n",
       "    <tr>\n",
       "      <th>origin</th>\n",
       "      <th></th>\n",
       "      <th></th>\n",
       "    </tr>\n",
       "  </thead>\n",
       "  <tbody>\n",
       "  </tbody>\n",
       "</table>\n",
       "</div>"
      ],
      "text/plain": [
       "Empty DataFrame\n",
       "Columns: [HAR, PG]\n",
       "Index: []"
      ]
     },
     "metadata": {},
     "output_type": "display_data"
    },
    {
     "name": "stdout",
     "output_type": "stream",
     "text": [
      "source\n",
      "HAR    1\n",
      "PG     1\n",
      "dtype: int64\n",
      "source\n",
      "HAR    1\n",
      "PG     1\n",
      "dtype: int64\n"
     ]
    }
   ],
   "source": [
    "# How many trackers do we see?\n",
    "df_easyprivacy = df[(df[\"easyprivacy\"] == True) | (df[\"easyprivacy\"] == True)]\n",
    "\n",
    "print(\"HAR trackers: \", len(set(df_easyprivacy[df_easyprivacy[\"source\"] == \"HAR\"][\"url_site\"])))\n",
    "print(\"PG trackers: \", len(set(df_easyprivacy[df_easyprivacy[\"source\"] == \"PG\"][\"url_site\"])))\n",
    "\n",
    "print(set(df_easyprivacy[df_easyprivacy[\"source\"] == \"HAR\"][\"url_site\"]) - set(df_easyprivacy[df_easyprivacy[\"source\"] == \"PG\"][\"url_site\"]))\n",
    "\n",
    "\n",
    "df_easyprivacy = df_easyprivacy.groupby(['origin', 'source'])\n",
    "df_easyprivacy = df_easyprivacy.size().unstack(fill_value=0)\n",
    "display(df_easyprivacy)\n",
    "display(df_easyprivacy[df_easyprivacy[\"PG\"] == 0])\n",
    "display(df_easyprivacy[df_easyprivacy[\"HAR\"] == 0])\n",
    "\n",
    "print(df_easyprivacy[df_easyprivacy[\"HAR\"] > 0].count())\n",
    "print(df_easyprivacy[df_easyprivacy[\"PG\"] > 0].count())"
   ]
  },
  {
   "cell_type": "code",
   "execution_count": 104,
   "id": "433b5c2e-893a-4b17-8b69-9c7370fcc6c0",
   "metadata": {},
   "outputs": [
    {
     "data": {
      "text/html": [
       "<div>\n",
       "<style scoped>\n",
       "    .dataframe tbody tr th:only-of-type {\n",
       "        vertical-align: middle;\n",
       "    }\n",
       "\n",
       "    .dataframe tbody tr th {\n",
       "        vertical-align: top;\n",
       "    }\n",
       "\n",
       "    .dataframe thead th {\n",
       "        text-align: right;\n",
       "    }\n",
       "</style>\n",
       "<table border=\"1\" class=\"dataframe\">\n",
       "  <thead>\n",
       "    <tr style=\"text-align: right;\">\n",
       "      <th></th>\n",
       "      <th>site</th>\n",
       "    </tr>\n",
       "    <tr>\n",
       "      <th>url_site</th>\n",
       "      <th></th>\n",
       "    </tr>\n",
       "  </thead>\n",
       "  <tbody>\n",
       "    <tr>\n",
       "      <th>googletagmanager.com</th>\n",
       "      <td>1</td>\n",
       "    </tr>\n",
       "  </tbody>\n",
       "</table>\n",
       "</div>"
      ],
      "text/plain": [
       "                      site\n",
       "url_site                  \n",
       "googletagmanager.com     1"
      ]
     },
     "metadata": {},
     "output_type": "display_data"
    },
    {
     "data": {
      "text/html": [
       "<div>\n",
       "<style scoped>\n",
       "    .dataframe tbody tr th:only-of-type {\n",
       "        vertical-align: middle;\n",
       "    }\n",
       "\n",
       "    .dataframe tbody tr th {\n",
       "        vertical-align: top;\n",
       "    }\n",
       "\n",
       "    .dataframe thead th {\n",
       "        text-align: right;\n",
       "    }\n",
       "</style>\n",
       "<table border=\"1\" class=\"dataframe\">\n",
       "  <thead>\n",
       "    <tr style=\"text-align: right;\">\n",
       "      <th></th>\n",
       "      <th>site</th>\n",
       "    </tr>\n",
       "    <tr>\n",
       "      <th>url_site</th>\n",
       "      <th></th>\n",
       "    </tr>\n",
       "  </thead>\n",
       "  <tbody>\n",
       "    <tr>\n",
       "      <th>googletagmanager.com</th>\n",
       "      <td>1</td>\n",
       "    </tr>\n",
       "  </tbody>\n",
       "</table>\n",
       "</div>"
      ],
      "text/plain": [
       "                      site\n",
       "url_site                  \n",
       "googletagmanager.com     1"
      ]
     },
     "metadata": {},
     "output_type": "display_data"
    }
   ],
   "source": [
    "# Most prominent trackers\n",
    "df_easyprivacy = df[(df[\"easyprivacy\"] == True) | (df[\"easyprivacy\"] == True)]\n",
    "df_easyprivacy = df_easyprivacy[df_easyprivacy[\"source\"] == \"HAR\"]\n",
    "df_easyprivacy = df_easyprivacy[[\"url_site\", \"site\"]]\n",
    "df_easyprivacy = df_easyprivacy.drop_duplicates()\n",
    "display(df_easyprivacy.groupby(\"url_site\").count().sort_values(\"site\").tail(10))\n",
    "\n",
    "\n",
    "df_easyprivacy = df[(df[\"easyprivacy\"] == True) | (df[\"easyprivacy\"] == True)]\n",
    "df_easyprivacy = df_easyprivacy[df_easyprivacy[\"source\"] == \"PG\"]\n",
    "df_easyprivacy = df_easyprivacy[[\"url_site\", \"site\"]]\n",
    "df_easyprivacy = df_easyprivacy.drop_duplicates()\n",
    "display(df_easyprivacy.groupby(\"url_site\").count().sort_values(\"site\").tail(10))"
   ]
  },
  {
   "cell_type": "code",
   "execution_count": 105,
   "id": "0a7878ba-9538-4ad8-aadf-18b876f9862f",
   "metadata": {},
   "outputs": [
    {
     "data": {
      "text/html": [
       "<div>\n",
       "<style scoped>\n",
       "    .dataframe tbody tr th:only-of-type {\n",
       "        vertical-align: middle;\n",
       "    }\n",
       "\n",
       "    .dataframe tbody tr th {\n",
       "        vertical-align: top;\n",
       "    }\n",
       "\n",
       "    .dataframe thead th {\n",
       "        text-align: right;\n",
       "    }\n",
       "</style>\n",
       "<table border=\"1\" class=\"dataframe\">\n",
       "  <thead>\n",
       "    <tr style=\"text-align: right;\">\n",
       "      <th></th>\n",
       "      <th>url</th>\n",
       "      <th>source</th>\n",
       "      <th>additional_info</th>\n",
       "      <th>url_site</th>\n",
       "      <th>origin</th>\n",
       "      <th>pg_origin</th>\n",
       "      <th>site</th>\n",
       "      <th>easylist</th>\n",
       "      <th>easyprivacy</th>\n",
       "      <th>third_party</th>\n",
       "    </tr>\n",
       "  </thead>\n",
       "  <tbody>\n",
       "    <tr>\n",
       "      <th>0</th>\n",
       "      <td>http://localtest.me:8000/favicon.ico</td>\n",
       "      <td>PG</td>\n",
       "      <td>NaN</td>\n",
       "      <td>localtest.me</td>\n",
       "      <td>http_localtest.me:8000</td>\n",
       "      <td>http://localtest.me:8000</td>\n",
       "      <td>localtest.me</td>\n",
       "      <td>False</td>\n",
       "      <td>False</td>\n",
       "      <td>False</td>\n",
       "    </tr>\n",
       "    <tr>\n",
       "      <th>1</th>\n",
       "      <td>http://localtest.me:8000/script.js</td>\n",
       "      <td>PG</td>\n",
       "      <td>NaN</td>\n",
       "      <td>localtest.me</td>\n",
       "      <td>http_localtest.me:8000</td>\n",
       "      <td>http://localtest.me:8000</td>\n",
       "      <td>localtest.me</td>\n",
       "      <td>False</td>\n",
       "      <td>False</td>\n",
       "      <td>False</td>\n",
       "    </tr>\n",
       "    <tr>\n",
       "      <th>2</th>\n",
       "      <td>http://localtest.me:8000/x</td>\n",
       "      <td>PG</td>\n",
       "      <td>NaN</td>\n",
       "      <td>localtest.me</td>\n",
       "      <td>http_localtest.me:8000</td>\n",
       "      <td>http://localtest.me:8000</td>\n",
       "      <td>localtest.me</td>\n",
       "      <td>False</td>\n",
       "      <td>False</td>\n",
       "      <td>False</td>\n",
       "    </tr>\n",
       "    <tr>\n",
       "      <th>3</th>\n",
       "      <td>http://www.googletagmanager.com/gtag/js?id=XXXXXX</td>\n",
       "      <td>PG</td>\n",
       "      <td>NaN</td>\n",
       "      <td>googletagmanager.com</td>\n",
       "      <td>http_localtest.me:8000</td>\n",
       "      <td>http://localtest.me:8000</td>\n",
       "      <td>localtest.me</td>\n",
       "      <td>False</td>\n",
       "      <td>True</td>\n",
       "      <td>True</td>\n",
       "    </tr>\n",
       "    <tr>\n",
       "      <th>4</th>\n",
       "      <td>https://localtest.me:8000/</td>\n",
       "      <td>PG</td>\n",
       "      <td>NaN</td>\n",
       "      <td>localtest.me</td>\n",
       "      <td>http_localtest.me:8000</td>\n",
       "      <td>http://localtest.me:8000</td>\n",
       "      <td>localtest.me</td>\n",
       "      <td>False</td>\n",
       "      <td>False</td>\n",
       "      <td>False</td>\n",
       "    </tr>\n",
       "    <tr>\n",
       "      <th>5</th>\n",
       "      <td>http://localtest.me:8000/</td>\n",
       "      <td>HAR</td>\n",
       "      <td>NaN</td>\n",
       "      <td>localtest.me</td>\n",
       "      <td>http_localtest.me:8000</td>\n",
       "      <td>http://localtest.me:8000</td>\n",
       "      <td>localtest.me</td>\n",
       "      <td>False</td>\n",
       "      <td>False</td>\n",
       "      <td>False</td>\n",
       "    </tr>\n",
       "    <tr>\n",
       "      <th>6</th>\n",
       "      <td>http://localtest.me:8000/script.js</td>\n",
       "      <td>HAR</td>\n",
       "      <td>NaN</td>\n",
       "      <td>localtest.me</td>\n",
       "      <td>http_localtest.me:8000</td>\n",
       "      <td>http://localtest.me:8000</td>\n",
       "      <td>localtest.me</td>\n",
       "      <td>False</td>\n",
       "      <td>False</td>\n",
       "      <td>False</td>\n",
       "    </tr>\n",
       "    <tr>\n",
       "      <th>7</th>\n",
       "      <td>http://localtest.me:8000/x</td>\n",
       "      <td>HAR</td>\n",
       "      <td>NaN</td>\n",
       "      <td>localtest.me</td>\n",
       "      <td>http_localtest.me:8000</td>\n",
       "      <td>http://localtest.me:8000</td>\n",
       "      <td>localtest.me</td>\n",
       "      <td>False</td>\n",
       "      <td>False</td>\n",
       "      <td>False</td>\n",
       "    </tr>\n",
       "    <tr>\n",
       "      <th>8</th>\n",
       "      <td>https://www.googletagmanager.com/gtag/js?id=XX...</td>\n",
       "      <td>HAR</td>\n",
       "      <td>NaN</td>\n",
       "      <td>googletagmanager.com</td>\n",
       "      <td>http_localtest.me:8000</td>\n",
       "      <td>http://localtest.me:8000</td>\n",
       "      <td>localtest.me</td>\n",
       "      <td>False</td>\n",
       "      <td>True</td>\n",
       "      <td>True</td>\n",
       "    </tr>\n",
       "    <tr>\n",
       "      <th>9</th>\n",
       "      <td>http://localtest.me:8000/favicon.ico</td>\n",
       "      <td>HAR</td>\n",
       "      <td>NaN</td>\n",
       "      <td>localtest.me</td>\n",
       "      <td>http_localtest.me:8000</td>\n",
       "      <td>http://localtest.me:8000</td>\n",
       "      <td>localtest.me</td>\n",
       "      <td>False</td>\n",
       "      <td>False</td>\n",
       "      <td>False</td>\n",
       "    </tr>\n",
       "  </tbody>\n",
       "</table>\n",
       "</div>"
      ],
      "text/plain": [
       "                                                 url source  additional_info  \\\n",
       "0               http://localtest.me:8000/favicon.ico     PG              NaN   \n",
       "1                 http://localtest.me:8000/script.js     PG              NaN   \n",
       "2                         http://localtest.me:8000/x     PG              NaN   \n",
       "3  http://www.googletagmanager.com/gtag/js?id=XXXXXX     PG              NaN   \n",
       "4                         https://localtest.me:8000/     PG              NaN   \n",
       "5                          http://localtest.me:8000/    HAR              NaN   \n",
       "6                 http://localtest.me:8000/script.js    HAR              NaN   \n",
       "7                         http://localtest.me:8000/x    HAR              NaN   \n",
       "8  https://www.googletagmanager.com/gtag/js?id=XX...    HAR              NaN   \n",
       "9               http://localtest.me:8000/favicon.ico    HAR              NaN   \n",
       "\n",
       "               url_site                  origin                 pg_origin  \\\n",
       "0          localtest.me  http_localtest.me:8000  http://localtest.me:8000   \n",
       "1          localtest.me  http_localtest.me:8000  http://localtest.me:8000   \n",
       "2          localtest.me  http_localtest.me:8000  http://localtest.me:8000   \n",
       "3  googletagmanager.com  http_localtest.me:8000  http://localtest.me:8000   \n",
       "4          localtest.me  http_localtest.me:8000  http://localtest.me:8000   \n",
       "5          localtest.me  http_localtest.me:8000  http://localtest.me:8000   \n",
       "6          localtest.me  http_localtest.me:8000  http://localtest.me:8000   \n",
       "7          localtest.me  http_localtest.me:8000  http://localtest.me:8000   \n",
       "8  googletagmanager.com  http_localtest.me:8000  http://localtest.me:8000   \n",
       "9          localtest.me  http_localtest.me:8000  http://localtest.me:8000   \n",
       "\n",
       "           site  easylist  easyprivacy  third_party  \n",
       "0  localtest.me     False        False        False  \n",
       "1  localtest.me     False        False        False  \n",
       "2  localtest.me     False        False        False  \n",
       "3  localtest.me     False         True         True  \n",
       "4  localtest.me     False        False        False  \n",
       "5  localtest.me     False        False        False  \n",
       "6  localtest.me     False        False        False  \n",
       "7  localtest.me     False        False        False  \n",
       "8  localtest.me     False         True         True  \n",
       "9  localtest.me     False        False        False  "
      ]
     },
     "metadata": {},
     "output_type": "display_data"
    }
   ],
   "source": [
    "# df[\"site\"] = [tldextract.extract(u).domain + \".\" + tldextract.extract(u).suffix for u in df[\"url\"]]\n",
    "display(df)"
   ]
  },
  {
   "cell_type": "code",
   "execution_count": 106,
   "id": "92dca10b-0f34-4e34-a797-3fc6be20720e",
   "metadata": {},
   "outputs": [
    {
     "name": "stdout",
     "output_type": "stream",
     "text": [
      "0\n"
     ]
    },
    {
     "data": {
      "text/plain": [
       "[]"
      ]
     },
     "execution_count": 106,
     "metadata": {},
     "output_type": "execute_result"
    }
   ],
   "source": [
    "import tldextract\n",
    "easylist_urls = list(df[df[\"easylist\"] == True][\"url\"])\n",
    "easylist_sites = [tldextract.extract(u).domain + \".\" + tldextract.extract(u).suffix for u in easylist_urls]\n",
    "print(len(set(easylist_sites)))\n",
    "easylist_cnt = Counter(easylist_sites)\n",
    "easylist_cnt.most_common(15) "
   ]
  },
  {
   "cell_type": "code",
   "execution_count": 107,
   "id": "41a6835a-5f4b-45d3-bdb0-dc0c51b5455e",
   "metadata": {},
   "outputs": [
    {
     "data": {
      "text/plain": [
       "Series([], Name: site, dtype: int64)"
      ]
     },
     "metadata": {},
     "output_type": "display_data"
    },
    {
     "name": "stdout",
     "output_type": "stream",
     "text": [
      "====\n"
     ]
    },
    {
     "data": {
      "text/plain": [
       "Series([], Name: count, dtype: int64)"
      ]
     },
     "metadata": {},
     "output_type": "display_data"
    }
   ],
   "source": [
    "df_easylist_trackers = df[df[\"easylist\"] == True]\n",
    "df_easylist_trackers = df_easylist_trackers.groupby(['source'])\n",
    "\n",
    "display(df_easylist_trackers['site'].nunique())\n",
    "print(\"====\")\n",
    "display(df_easylist_trackers['site'].value_counts().nlargest(20))"
   ]
  }
 ],
 "metadata": {
  "kernelspec": {
   "display_name": "venv",
   "language": "python",
   "name": "python3"
  },
  "language_info": {
   "codemirror_mode": {
    "name": "ipython",
    "version": 3
   },
   "file_extension": ".py",
   "mimetype": "text/x-python",
   "name": "python",
   "nbconvert_exporter": "python",
   "pygments_lexer": "ipython3",
   "version": "3.10.12"
  }
 },
 "nbformat": 4,
 "nbformat_minor": 5
}
